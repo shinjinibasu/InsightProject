{
 "cells": [
  {
   "cell_type": "markdown",
   "metadata": {},
   "source": [
    "# Precision at k\n",
    "\n",
    "This notebook calculates precision at k for svd and the baseline"
   ]
  },
  {
   "cell_type": "code",
   "execution_count": 1,
   "metadata": {},
   "outputs": [],
   "source": [
    "#import modules\n",
    "\n",
    "import numpy as np\n",
    "import pandas as pd\n",
    "from surprise.prediction_algorithms.matrix_factorization import SVD\n",
    "from surprise.prediction_algorithms.knns import KNNBasic\n",
    "from surprise import Reader, Dataset\n",
    "from surprise.model_selection import train_test_split\n",
    "from surprise import accuracy\n",
    "from surprise.model_selection import KFold\n",
    "from collections import defaultdict\n",
    "from surprise.prediction_algorithms.random_pred import NormalPredictor"
   ]
  },
  {
   "cell_type": "code",
   "execution_count": 2,
   "metadata": {},
   "outputs": [],
   "source": [
    "#load data\n",
    "users = pd.read_csv('goodreads2/user_w_uid_bavg_titles.csv')\n",
    "div_m = pd.read_csv('goodreads2/div_array.csv')"
   ]
  },
  {
   "cell_type": "code",
   "execution_count": 3,
   "metadata": {},
   "outputs": [],
   "source": [
    "#load dataset into the correct format\n",
    "reader = Reader()\n",
    "rat_data = Dataset.load_from_df(users[['uid', 'bid', 'rating']], reader)\n",
    "kf = KFold(n_splits=5)"
   ]
  },
  {
   "cell_type": "code",
   "execution_count": 4,
   "metadata": {},
   "outputs": [],
   "source": [
    "#initialize algorithms\n",
    "\n",
    "svd = SVD(n_epochs=50)\n",
    "baseline = NormalPredictor()"
   ]
  },
  {
   "cell_type": "code",
   "execution_count": 5,
   "metadata": {},
   "outputs": [],
   "source": [
    "def precision_recall_at_k(predictions, k=10, threshold=3.5):\n",
    "    '''Return precision and recall at k metrics for each user.'''\n",
    "\n",
    "    # First map the predictions to each user.\n",
    "    user_est_true = defaultdict(list)\n",
    "    for uid, _, true_r, est, _ in predictions:\n",
    "        user_est_true[int(uid)].append((est, true_r))\n",
    "\n",
    "    precisions = dict()\n",
    "    recalls = dict()\n",
    "    for uid, user_ratings in user_est_true.items():\n",
    "\n",
    "        # Sort user ratings by estimated value\n",
    "        user_ratings.sort(key=lambda x: x[0], reverse=True)\n",
    "\n",
    "        # Number of relevant items\n",
    "        n_rel = sum((true_r >= threshold) for (_, true_r) in user_ratings)\n",
    "\n",
    "        # Number of recommended items in top k\n",
    "        n_rec_k = sum((est >= threshold) for (est, _) in user_ratings[:k])\n",
    "\n",
    "        # Number of relevant and recommended items in top k\n",
    "        n_rel_and_rec_k = sum(((true_r >= threshold) and (est >= threshold))\n",
    "                              for (est, true_r) in user_ratings[:k])\n",
    "\n",
    "        # Precision@K: Proportion of recommended items that are relevant\n",
    "        precisions[uid] = n_rel_and_rec_k / n_rec_k if n_rec_k != 0 else 1\n",
    "\n",
    "        # Recall@K: Proportion of relevant items that are recommended\n",
    "        recalls[uid] = n_rel_and_rec_k / n_rel if n_rel != 0 else 1\n",
    "\n",
    "    return precisions, recalls"
   ]
  },
  {
   "cell_type": "code",
   "execution_count": 6,
   "metadata": {},
   "outputs": [
    {
     "name": "stdout",
     "output_type": "stream",
     "text": [
      "0.8501550387596882\n",
      "0.3245164048352716\n",
      "0.868643126804351\n",
      "0.31817519451560833\n",
      "0.8556330234617071\n",
      "0.32630699534051966\n",
      "0.8533864541832652\n",
      "0.32370174016345765\n",
      "0.8469807564698061\n",
      "0.3240439415368445\n"
     ]
    }
   ],
   "source": [
    "for trainset, testset in kf.split(rat_data):\n",
    "    svd.fit(trainset)\n",
    "    predictions = svd.test(testset)\n",
    "    precisions, recalls = precision_recall_at_k(predictions, k=5, threshold=4)\n",
    "\n",
    "    # Precision and recall can then be averaged over all users\n",
    "    print(sum(prec for prec in precisions.values()) / len(precisions))\n",
    "    print(sum(rec for rec in recalls.values()) / len(recalls))"
   ]
  },
  {
   "cell_type": "code",
   "execution_count": 7,
   "metadata": {},
   "outputs": [],
   "source": [
    "preclist = []\n",
    "reclist = []\n",
    "for k in range(10):\n",
    "    precision = 0\n",
    "    recall = 0\n",
    "    for trainset, testset in kf.split(rat_data):\n",
    "        svd.fit(trainset)\n",
    "        predictions = svd.test(testset)\n",
    "        precisions, recalls = precision_recall_at_k(predictions, k, threshold=3.5)\n",
    "        \n",
    "        # Precision and recall can then be averaged over all users\n",
    "        precision += sum(prec for prec in precisions.values()) / len(precisions)\n",
    "        recall += sum(rec for rec in recalls.values()) / len(recalls)\n",
    "        \n",
    "    precision /= 5\n",
    "    recall /=5\n",
    "        \n",
    "    preclist.append(precision)\n",
    "    reclist.append(recall)"
   ]
  },
  {
   "cell_type": "code",
   "execution_count": 8,
   "metadata": {},
   "outputs": [],
   "source": [
    "precbase = []\n",
    "recbase = []\n",
    "for k in range(10):\n",
    "    precision = 0\n",
    "    recall = 0\n",
    "    for trainset, testset in kf.split(rat_data):\n",
    "        baseline.fit(trainset)\n",
    "        predictions = baseline.test(testset)\n",
    "        precisions, recalls = precision_recall_at_k(predictions, k, threshold=3.5)\n",
    "        \n",
    "        # Precision and recall can then be averaged over all users\n",
    "        precision += sum(prec for prec in precisions.values()) / len(precisions)\n",
    "        recall += sum(rec for rec in recalls.values()) / len(recalls)\n",
    "        \n",
    "    precision /= 5\n",
    "    recall /=5\n",
    "        \n",
    "    precbase.append(precision)\n",
    "    recbase.append(recall)"
   ]
  },
  {
   "cell_type": "code",
   "execution_count": 9,
   "metadata": {},
   "outputs": [
    {
     "data": {
      "text/plain": [
       "<matplotlib.legend.Legend at 0x1c5d389d808>"
      ]
     },
     "execution_count": 9,
     "metadata": {},
     "output_type": "execute_result"
    },
    {
     "data": {
      "image/png": "[encoded data removed]",
      "text/plain": [
       "<Figure size 576x432 with 1 Axes>"
      ]
     },
     "metadata": {},
     "output_type": "display_data"
    }
   ],
   "source": [
    "sns.set_style(\"whitegrid\")\n",
    "plt.figure(figsize=(8,6))\n",
    "plt.plot(list(range(1,11)),preclist,'navy',list(range(1,11)),precbase,'teal')\n",
    "plt.grid(b=None)\n",
    "plt.xlabel('Number of recommendations (k)',fontsize=12)\n",
    "plt.ylabel('Precision at k',fontsize=12)\n",
    "plt.legend(['Model Precision','Baseline Precision'],loc='best',fontsize=12)\n",
    "#plt.savefig('../eda/precision-1t-k.png',dpi=600)"
   ]
  }
 ],
 "metadata": {
  "kernelspec": {
   "display_name": "Python 3",
   "language": "python",
   "name": "python3"
  },
  "language_info": {
   "codemirror_mode": {
    "name": "ipython",
    "version": 3
   },
   "file_extension": ".py",
   "mimetype": "text/x-python",
   "name": "python",
   "nbconvert_exporter": "python",
   "pygments_lexer": "ipython3",
   "version": "3.7.4"
  }
 },
 "nbformat": 4,
 "nbformat_minor": 2
}
