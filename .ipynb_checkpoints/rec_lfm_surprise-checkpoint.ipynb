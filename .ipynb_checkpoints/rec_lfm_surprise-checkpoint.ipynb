{
 "cells": [
  {
   "cell_type": "code",
   "execution_count": 1,
   "metadata": {},
   "outputs": [],
   "source": [
    "import numpy as np\n",
    "import pandas as pd\n",
    "from sklearn.metrics import mean_squared_error\n",
    "from sklearn.impute import SimpleImputer\n",
    "from surprise.prediction_algorithms.matrix_factorization import SVDpp, SVD\n",
    "from surprise.prediction_algorithms.knns import KNNBasic"
   ]
  },
  {
   "cell_type": "code",
   "execution_count": 31,
   "metadata": {},
   "outputs": [],
   "source": [
    "from scipy import sparse\n",
    "from lightfm import LightFM"
   ]
  },
  {
   "cell_type": "code",
   "execution_count": 3,
   "metadata": {},
   "outputs": [],
   "source": [
    "users = pd.read_csv('goodreads2/user_w_uid_bavg_titles.csv')\n",
    "div_m = pd.read_csv('goodreads2/div_array.csv')"
   ]
  },
  {
   "cell_type": "code",
   "execution_count": 4,
   "metadata": {},
   "outputs": [
    {
     "data": {
      "text/html": [
       "<div>\n",
       "<style scoped>\n",
       "    .dataframe tbody tr th:only-of-type {\n",
       "        vertical-align: middle;\n",
       "    }\n",
       "\n",
       "    .dataframe tbody tr th {\n",
       "        vertical-align: top;\n",
       "    }\n",
       "\n",
       "    .dataframe thead th {\n",
       "        text-align: right;\n",
       "    }\n",
       "</style>\n",
       "<table border=\"1\" class=\"dataframe\">\n",
       "  <thead>\n",
       "    <tr style=\"text-align: right;\">\n",
       "      <th></th>\n",
       "      <th>book_id</th>\n",
       "      <th>user_id</th>\n",
       "      <th>rating</th>\n",
       "      <th>goodreads_book_id</th>\n",
       "      <th>is_div</th>\n",
       "      <th>uid</th>\n",
       "      <th>bid</th>\n",
       "      <th>b_average_rating</th>\n",
       "      <th>title</th>\n",
       "      <th>genre</th>\n",
       "      <th>fav_genre</th>\n",
       "      <th>author</th>\n",
       "    </tr>\n",
       "  </thead>\n",
       "  <tbody>\n",
       "    <tr>\n",
       "      <td>0</td>\n",
       "      <td>1</td>\n",
       "      <td>3662</td>\n",
       "      <td>4</td>\n",
       "      <td>2767052</td>\n",
       "      <td>0</td>\n",
       "      <td>152.0</td>\n",
       "      <td>0.0</td>\n",
       "      <td>4.34</td>\n",
       "      <td>The Hunger Games</td>\n",
       "      <td>young-adult</td>\n",
       "      <td>classics</td>\n",
       "      <td>Suzanne Collins</td>\n",
       "    </tr>\n",
       "    <tr>\n",
       "      <td>1</td>\n",
       "      <td>1</td>\n",
       "      <td>5461</td>\n",
       "      <td>3</td>\n",
       "      <td>2767052</td>\n",
       "      <td>0</td>\n",
       "      <td>206.0</td>\n",
       "      <td>0.0</td>\n",
       "      <td>4.34</td>\n",
       "      <td>The Hunger Games</td>\n",
       "      <td>young-adult</td>\n",
       "      <td>fiction</td>\n",
       "      <td>Suzanne Collins</td>\n",
       "    </tr>\n",
       "    <tr>\n",
       "      <td>2</td>\n",
       "      <td>1</td>\n",
       "      <td>11927</td>\n",
       "      <td>4</td>\n",
       "      <td>2767052</td>\n",
       "      <td>0</td>\n",
       "      <td>396.0</td>\n",
       "      <td>0.0</td>\n",
       "      <td>4.34</td>\n",
       "      <td>The Hunger Games</td>\n",
       "      <td>young-adult</td>\n",
       "      <td>fiction</td>\n",
       "      <td>Suzanne Collins</td>\n",
       "    </tr>\n",
       "    <tr>\n",
       "      <td>3</td>\n",
       "      <td>1</td>\n",
       "      <td>24845</td>\n",
       "      <td>5</td>\n",
       "      <td>2767052</td>\n",
       "      <td>0</td>\n",
       "      <td>785.0</td>\n",
       "      <td>0.0</td>\n",
       "      <td>4.34</td>\n",
       "      <td>The Hunger Games</td>\n",
       "      <td>young-adult</td>\n",
       "      <td>fantasy</td>\n",
       "      <td>Suzanne Collins</td>\n",
       "    </tr>\n",
       "    <tr>\n",
       "      <td>4</td>\n",
       "      <td>1</td>\n",
       "      <td>15494</td>\n",
       "      <td>5</td>\n",
       "      <td>2767052</td>\n",
       "      <td>0</td>\n",
       "      <td>513.0</td>\n",
       "      <td>0.0</td>\n",
       "      <td>4.34</td>\n",
       "      <td>The Hunger Games</td>\n",
       "      <td>young-adult</td>\n",
       "      <td>horror</td>\n",
       "      <td>Suzanne Collins</td>\n",
       "    </tr>\n",
       "  </tbody>\n",
       "</table>\n",
       "</div>"
      ],
      "text/plain": [
       "   book_id  user_id  rating  goodreads_book_id  is_div    uid  bid  \\\n",
       "0        1     3662       4            2767052       0  152.0  0.0   \n",
       "1        1     5461       3            2767052       0  206.0  0.0   \n",
       "2        1    11927       4            2767052       0  396.0  0.0   \n",
       "3        1    24845       5            2767052       0  785.0  0.0   \n",
       "4        1    15494       5            2767052       0  513.0  0.0   \n",
       "\n",
       "   b_average_rating             title        genre fav_genre           author  \n",
       "0              4.34  The Hunger Games  young-adult  classics  Suzanne Collins  \n",
       "1              4.34  The Hunger Games  young-adult   fiction  Suzanne Collins  \n",
       "2              4.34  The Hunger Games  young-adult   fiction  Suzanne Collins  \n",
       "3              4.34  The Hunger Games  young-adult   fantasy  Suzanne Collins  \n",
       "4              4.34  The Hunger Games  young-adult    horror  Suzanne Collins  "
      ]
     },
     "execution_count": 4,
     "metadata": {},
     "output_type": "execute_result"
    }
   ],
   "source": [
    "users.head()"
   ]
  },
  {
   "cell_type": "code",
   "execution_count": 6,
   "metadata": {},
   "outputs": [
    {
     "data": {
      "text/html": [
       "<div>\n",
       "<style scoped>\n",
       "    .dataframe tbody tr th:only-of-type {\n",
       "        vertical-align: middle;\n",
       "    }\n",
       "\n",
       "    .dataframe tbody tr th {\n",
       "        vertical-align: top;\n",
       "    }\n",
       "\n",
       "    .dataframe thead th {\n",
       "        text-align: right;\n",
       "    }\n",
       "</style>\n",
       "<table border=\"1\" class=\"dataframe\">\n",
       "  <thead>\n",
       "    <tr style=\"text-align: right;\">\n",
       "      <th></th>\n",
       "      <th>0</th>\n",
       "      <th>1</th>\n",
       "      <th>2</th>\n",
       "      <th>3</th>\n",
       "      <th>4</th>\n",
       "      <th>5</th>\n",
       "      <th>6</th>\n",
       "      <th>7</th>\n",
       "      <th>8</th>\n",
       "      <th>9</th>\n",
       "      <th>...</th>\n",
       "      <th>9491</th>\n",
       "      <th>9492</th>\n",
       "      <th>9493</th>\n",
       "      <th>9494</th>\n",
       "      <th>9495</th>\n",
       "      <th>9496</th>\n",
       "      <th>9497</th>\n",
       "      <th>9498</th>\n",
       "      <th>9499</th>\n",
       "      <th>9500</th>\n",
       "    </tr>\n",
       "  </thead>\n",
       "  <tbody>\n",
       "    <tr>\n",
       "      <td>155</td>\n",
       "      <td>4.0</td>\n",
       "      <td>0.0</td>\n",
       "      <td>4.0</td>\n",
       "      <td>0.0</td>\n",
       "      <td>4.0</td>\n",
       "      <td>5.0</td>\n",
       "      <td>0.0</td>\n",
       "      <td>0.0</td>\n",
       "      <td>0.0</td>\n",
       "      <td>4.0</td>\n",
       "      <td>...</td>\n",
       "      <td>0.0</td>\n",
       "      <td>0.0</td>\n",
       "      <td>0.0</td>\n",
       "      <td>0.0</td>\n",
       "      <td>0.0</td>\n",
       "      <td>0.0</td>\n",
       "      <td>0.0</td>\n",
       "      <td>0.0</td>\n",
       "      <td>0.0</td>\n",
       "      <td>0.0</td>\n",
       "    </tr>\n",
       "    <tr>\n",
       "      <td>209</td>\n",
       "      <td>3.0</td>\n",
       "      <td>4.0</td>\n",
       "      <td>2.0</td>\n",
       "      <td>0.0</td>\n",
       "      <td>5.0</td>\n",
       "      <td>0.0</td>\n",
       "      <td>5.0</td>\n",
       "      <td>4.0</td>\n",
       "      <td>4.0</td>\n",
       "      <td>3.0</td>\n",
       "      <td>...</td>\n",
       "      <td>0.0</td>\n",
       "      <td>0.0</td>\n",
       "      <td>0.0</td>\n",
       "      <td>0.0</td>\n",
       "      <td>0.0</td>\n",
       "      <td>0.0</td>\n",
       "      <td>0.0</td>\n",
       "      <td>0.0</td>\n",
       "      <td>0.0</td>\n",
       "      <td>0.0</td>\n",
       "    </tr>\n",
       "    <tr>\n",
       "      <td>260</td>\n",
       "      <td>0.0</td>\n",
       "      <td>0.0</td>\n",
       "      <td>4.0</td>\n",
       "      <td>0.0</td>\n",
       "      <td>5.0</td>\n",
       "      <td>0.0</td>\n",
       "      <td>3.0</td>\n",
       "      <td>5.0</td>\n",
       "      <td>4.0</td>\n",
       "      <td>4.0</td>\n",
       "      <td>...</td>\n",
       "      <td>0.0</td>\n",
       "      <td>0.0</td>\n",
       "      <td>0.0</td>\n",
       "      <td>0.0</td>\n",
       "      <td>0.0</td>\n",
       "      <td>0.0</td>\n",
       "      <td>0.0</td>\n",
       "      <td>0.0</td>\n",
       "      <td>0.0</td>\n",
       "      <td>0.0</td>\n",
       "    </tr>\n",
       "    <tr>\n",
       "      <td>359</td>\n",
       "      <td>0.0</td>\n",
       "      <td>0.0</td>\n",
       "      <td>0.0</td>\n",
       "      <td>0.0</td>\n",
       "      <td>4.0</td>\n",
       "      <td>0.0</td>\n",
       "      <td>0.0</td>\n",
       "      <td>0.0</td>\n",
       "      <td>0.0</td>\n",
       "      <td>0.0</td>\n",
       "      <td>...</td>\n",
       "      <td>0.0</td>\n",
       "      <td>0.0</td>\n",
       "      <td>0.0</td>\n",
       "      <td>0.0</td>\n",
       "      <td>0.0</td>\n",
       "      <td>0.0</td>\n",
       "      <td>0.0</td>\n",
       "      <td>0.0</td>\n",
       "      <td>0.0</td>\n",
       "      <td>0.0</td>\n",
       "    </tr>\n",
       "    <tr>\n",
       "      <td>393</td>\n",
       "      <td>0.0</td>\n",
       "      <td>4.0</td>\n",
       "      <td>0.0</td>\n",
       "      <td>5.0</td>\n",
       "      <td>5.0</td>\n",
       "      <td>3.0</td>\n",
       "      <td>4.0</td>\n",
       "      <td>5.0</td>\n",
       "      <td>3.0</td>\n",
       "      <td>0.0</td>\n",
       "      <td>...</td>\n",
       "      <td>0.0</td>\n",
       "      <td>0.0</td>\n",
       "      <td>0.0</td>\n",
       "      <td>0.0</td>\n",
       "      <td>0.0</td>\n",
       "      <td>0.0</td>\n",
       "      <td>0.0</td>\n",
       "      <td>0.0</td>\n",
       "      <td>0.0</td>\n",
       "      <td>0.0</td>\n",
       "    </tr>\n",
       "  </tbody>\n",
       "</table>\n",
       "<p>5 rows × 9501 columns</p>\n",
       "</div>"
      ],
      "text/plain": [
       "       0    1    2    3    4    5    6    7    8    9  ...  9491  9492  9493  \\\n",
       "155  4.0  0.0  4.0  0.0  4.0  5.0  0.0  0.0  0.0  4.0  ...   0.0   0.0   0.0   \n",
       "209  3.0  4.0  2.0  0.0  5.0  0.0  5.0  4.0  4.0  3.0  ...   0.0   0.0   0.0   \n",
       "260  0.0  0.0  4.0  0.0  5.0  0.0  3.0  5.0  4.0  4.0  ...   0.0   0.0   0.0   \n",
       "359  0.0  0.0  0.0  0.0  4.0  0.0  0.0  0.0  0.0  0.0  ...   0.0   0.0   0.0   \n",
       "393  0.0  4.0  0.0  5.0  5.0  3.0  4.0  5.0  3.0  0.0  ...   0.0   0.0   0.0   \n",
       "\n",
       "     9494  9495  9496  9497  9498  9499  9500  \n",
       "155   0.0   0.0   0.0   0.0   0.0   0.0   0.0  \n",
       "209   0.0   0.0   0.0   0.0   0.0   0.0   0.0  \n",
       "260   0.0   0.0   0.0   0.0   0.0   0.0   0.0  \n",
       "359   0.0   0.0   0.0   0.0   0.0   0.0   0.0  \n",
       "393   0.0   0.0   0.0   0.0   0.0   0.0   0.0  \n",
       "\n",
       "[5 rows x 9501 columns]"
      ]
     },
     "execution_count": 6,
     "metadata": {},
     "output_type": "execute_result"
    }
   ],
   "source": [
    "rat_sparse.loc[rat_sparse['4']!=0].head()"
   ]
  },
  {
   "cell_type": "code",
   "execution_count": 10,
   "metadata": {},
   "outputs": [
    {
     "data": {
      "text/html": [
       "<div>\n",
       "<style scoped>\n",
       "    .dataframe tbody tr th:only-of-type {\n",
       "        vertical-align: middle;\n",
       "    }\n",
       "\n",
       "    .dataframe tbody tr th {\n",
       "        vertical-align: top;\n",
       "    }\n",
       "\n",
       "    .dataframe thead th {\n",
       "        text-align: right;\n",
       "    }\n",
       "</style>\n",
       "<table border=\"1\" class=\"dataframe\">\n",
       "  <thead>\n",
       "    <tr style=\"text-align: right;\">\n",
       "      <th></th>\n",
       "      <th>0</th>\n",
       "      <th>1</th>\n",
       "      <th>2</th>\n",
       "      <th>3</th>\n",
       "      <th>4</th>\n",
       "      <th>5</th>\n",
       "      <th>6</th>\n",
       "      <th>7</th>\n",
       "      <th>8</th>\n",
       "      <th>9</th>\n",
       "      <th>...</th>\n",
       "      <th>9491</th>\n",
       "      <th>9492</th>\n",
       "      <th>9493</th>\n",
       "      <th>9494</th>\n",
       "      <th>9495</th>\n",
       "      <th>9496</th>\n",
       "      <th>9497</th>\n",
       "      <th>9498</th>\n",
       "      <th>9499</th>\n",
       "      <th>9500</th>\n",
       "    </tr>\n",
       "  </thead>\n",
       "  <tbody>\n",
       "    <tr>\n",
       "      <td>0</td>\n",
       "      <td>4.34</td>\n",
       "      <td>4.44</td>\n",
       "      <td>3.57</td>\n",
       "      <td>4.25</td>\n",
       "      <td>3.89</td>\n",
       "      <td>4.26</td>\n",
       "      <td>4.25</td>\n",
       "      <td>3.79</td>\n",
       "      <td>3.85</td>\n",
       "      <td>4.24</td>\n",
       "      <td>...</td>\n",
       "      <td>3.68</td>\n",
       "      <td>3.73</td>\n",
       "      <td>4.12</td>\n",
       "      <td>4.32</td>\n",
       "      <td>3.09</td>\n",
       "      <td>4.09</td>\n",
       "      <td>4.25</td>\n",
       "      <td>4.35</td>\n",
       "      <td>3.65</td>\n",
       "      <td>4.0</td>\n",
       "    </tr>\n",
       "    <tr>\n",
       "      <td>1</td>\n",
       "      <td>4.34</td>\n",
       "      <td>4.44</td>\n",
       "      <td>3.57</td>\n",
       "      <td>4.25</td>\n",
       "      <td>3.89</td>\n",
       "      <td>4.26</td>\n",
       "      <td>4.25</td>\n",
       "      <td>3.79</td>\n",
       "      <td>3.85</td>\n",
       "      <td>4.24</td>\n",
       "      <td>...</td>\n",
       "      <td>3.68</td>\n",
       "      <td>3.73</td>\n",
       "      <td>4.12</td>\n",
       "      <td>4.32</td>\n",
       "      <td>3.09</td>\n",
       "      <td>4.09</td>\n",
       "      <td>4.25</td>\n",
       "      <td>4.35</td>\n",
       "      <td>3.65</td>\n",
       "      <td>4.0</td>\n",
       "    </tr>\n",
       "    <tr>\n",
       "      <td>2</td>\n",
       "      <td>4.34</td>\n",
       "      <td>4.44</td>\n",
       "      <td>3.57</td>\n",
       "      <td>4.25</td>\n",
       "      <td>3.89</td>\n",
       "      <td>5.00</td>\n",
       "      <td>4.25</td>\n",
       "      <td>3.79</td>\n",
       "      <td>3.85</td>\n",
       "      <td>4.24</td>\n",
       "      <td>...</td>\n",
       "      <td>3.68</td>\n",
       "      <td>3.73</td>\n",
       "      <td>4.12</td>\n",
       "      <td>4.32</td>\n",
       "      <td>3.09</td>\n",
       "      <td>4.09</td>\n",
       "      <td>4.25</td>\n",
       "      <td>4.35</td>\n",
       "      <td>3.65</td>\n",
       "      <td>4.0</td>\n",
       "    </tr>\n",
       "    <tr>\n",
       "      <td>3</td>\n",
       "      <td>4.34</td>\n",
       "      <td>4.44</td>\n",
       "      <td>3.57</td>\n",
       "      <td>4.25</td>\n",
       "      <td>3.89</td>\n",
       "      <td>4.26</td>\n",
       "      <td>4.25</td>\n",
       "      <td>3.79</td>\n",
       "      <td>3.85</td>\n",
       "      <td>4.24</td>\n",
       "      <td>...</td>\n",
       "      <td>3.68</td>\n",
       "      <td>3.73</td>\n",
       "      <td>4.12</td>\n",
       "      <td>4.32</td>\n",
       "      <td>3.09</td>\n",
       "      <td>4.09</td>\n",
       "      <td>4.25</td>\n",
       "      <td>4.35</td>\n",
       "      <td>3.65</td>\n",
       "      <td>4.0</td>\n",
       "    </tr>\n",
       "    <tr>\n",
       "      <td>4</td>\n",
       "      <td>4.34</td>\n",
       "      <td>4.44</td>\n",
       "      <td>3.57</td>\n",
       "      <td>4.25</td>\n",
       "      <td>3.89</td>\n",
       "      <td>4.26</td>\n",
       "      <td>4.25</td>\n",
       "      <td>3.79</td>\n",
       "      <td>3.85</td>\n",
       "      <td>4.24</td>\n",
       "      <td>...</td>\n",
       "      <td>3.68</td>\n",
       "      <td>3.73</td>\n",
       "      <td>4.12</td>\n",
       "      <td>4.32</td>\n",
       "      <td>3.09</td>\n",
       "      <td>4.09</td>\n",
       "      <td>4.25</td>\n",
       "      <td>4.35</td>\n",
       "      <td>3.65</td>\n",
       "      <td>4.0</td>\n",
       "    </tr>\n",
       "  </tbody>\n",
       "</table>\n",
       "<p>5 rows × 9501 columns</p>\n",
       "</div>"
      ],
      "text/plain": [
       "      0     1     2     3     4     5     6     7     8     9  ...  9491  \\\n",
       "0  4.34  4.44  3.57  4.25  3.89  4.26  4.25  3.79  3.85  4.24  ...  3.68   \n",
       "1  4.34  4.44  3.57  4.25  3.89  4.26  4.25  3.79  3.85  4.24  ...  3.68   \n",
       "2  4.34  4.44  3.57  4.25  3.89  5.00  4.25  3.79  3.85  4.24  ...  3.68   \n",
       "3  4.34  4.44  3.57  4.25  3.89  4.26  4.25  3.79  3.85  4.24  ...  3.68   \n",
       "4  4.34  4.44  3.57  4.25  3.89  4.26  4.25  3.79  3.85  4.24  ...  3.68   \n",
       "\n",
       "   9492  9493  9494  9495  9496  9497  9498  9499  9500  \n",
       "0  3.73  4.12  4.32  3.09  4.09  4.25  4.35  3.65   4.0  \n",
       "1  3.73  4.12  4.32  3.09  4.09  4.25  4.35  3.65   4.0  \n",
       "2  3.73  4.12  4.32  3.09  4.09  4.25  4.35  3.65   4.0  \n",
       "3  3.73  4.12  4.32  3.09  4.09  4.25  4.35  3.65   4.0  \n",
       "4  3.73  4.12  4.32  3.09  4.09  4.25  4.35  3.65   4.0  \n",
       "\n",
       "[5 rows x 9501 columns]"
      ]
     },
     "execution_count": 10,
     "metadata": {},
     "output_type": "execute_result"
    }
   ],
   "source": [
    "rat_imp.head()"
   ]
  },
  {
   "cell_type": "code",
   "execution_count": 5,
   "metadata": {},
   "outputs": [
    {
     "data": {
      "text/html": [
       "<div>\n",
       "<style scoped>\n",
       "    .dataframe tbody tr th:only-of-type {\n",
       "        vertical-align: middle;\n",
       "    }\n",
       "\n",
       "    .dataframe tbody tr th {\n",
       "        vertical-align: top;\n",
       "    }\n",
       "\n",
       "    .dataframe thead th {\n",
       "        text-align: right;\n",
       "    }\n",
       "</style>\n",
       "<table border=\"1\" class=\"dataframe\">\n",
       "  <thead>\n",
       "    <tr style=\"text-align: right;\">\n",
       "      <th></th>\n",
       "      <th>bid</th>\n",
       "      <th>is_div</th>\n",
       "    </tr>\n",
       "  </thead>\n",
       "  <tbody>\n",
       "    <tr>\n",
       "      <td>0</td>\n",
       "      <td>0.0</td>\n",
       "      <td>0</td>\n",
       "    </tr>\n",
       "    <tr>\n",
       "      <td>1</td>\n",
       "      <td>1.0</td>\n",
       "      <td>0</td>\n",
       "    </tr>\n",
       "    <tr>\n",
       "      <td>2</td>\n",
       "      <td>2.0</td>\n",
       "      <td>0</td>\n",
       "    </tr>\n",
       "    <tr>\n",
       "      <td>3</td>\n",
       "      <td>3.0</td>\n",
       "      <td>0</td>\n",
       "    </tr>\n",
       "    <tr>\n",
       "      <td>4</td>\n",
       "      <td>4.0</td>\n",
       "      <td>0</td>\n",
       "    </tr>\n",
       "  </tbody>\n",
       "</table>\n",
       "</div>"
      ],
      "text/plain": [
       "   bid  is_div\n",
       "0  0.0       0\n",
       "1  1.0       0\n",
       "2  2.0       0\n",
       "3  3.0       0\n",
       "4  4.0       0"
      ]
     },
     "execution_count": 5,
     "metadata": {},
     "output_type": "execute_result"
    }
   ],
   "source": [
    "div_m.head()"
   ]
  },
  {
   "cell_type": "code",
   "execution_count": 121,
   "metadata": {},
   "outputs": [],
   "source": [
    "#Train test split for LightFM model\n",
    "\n",
    "def get_train_test(ratings):\n",
    "    test = np.zeros(ratings.shape)\n",
    "    train = ratings.copy()\n",
    "    for user in range(ratings.shape[0]):\n",
    "        test_ratings = np.random.choice(ratings[user, :].nonzero()[0], \n",
    "                                        size=5, \n",
    "                                        replace=False)\n",
    "        train[user, test_ratings] = 0.\n",
    "        test[user, test_ratings] = ratings[user, test_ratings]\n",
    "        \n",
    "    # Test and training are truly disjoint\n",
    "    assert(np.all((train * test) == 0)) \n",
    "    return train, test"
   ]
  },
  {
   "cell_type": "code",
   "execution_count": 96,
   "metadata": {},
   "outputs": [],
   "source": [
    "train, test= train_test_split(rat_sparse.values)"
   ]
  },
  {
   "cell_type": "code",
   "execution_count": 97,
   "metadata": {},
   "outputs": [
    {
     "data": {
      "text/plain": [
       "array([[0., 0., 0., ..., 0., 0., 0.],\n",
       "       [0., 0., 0., ..., 0., 0., 0.],\n",
       "       [0., 0., 0., ..., 0., 0., 0.],\n",
       "       ...,\n",
       "       [4., 0., 0., ..., 0., 0., 0.],\n",
       "       [0., 0., 0., ..., 0., 0., 0.],\n",
       "       [0., 0., 0., ..., 0., 0., 0.]])"
      ]
     },
     "execution_count": 97,
     "metadata": {},
     "output_type": "execute_result"
    }
   ],
   "source": [
    "train"
   ]
  },
  {
   "cell_type": "code",
   "execution_count": 59,
   "metadata": {},
   "outputs": [],
   "source": [
    "#initialize LightFM model\n",
    "lfm = LightFM(no_components=50)"
   ]
  },
  {
   "cell_type": "code",
   "execution_count": 60,
   "metadata": {},
   "outputs": [],
   "source": [
    "train[train==1] = -1\n",
    "train[train==2] = -1\n",
    "train[train>2] = 1"
   ]
  },
  {
   "cell_type": "code",
   "execution_count": 98,
   "metadata": {},
   "outputs": [],
   "source": [
    "trn = sparse.csr_matrix(train)\n",
    "tst = sparse.csr_matrix(test)"
   ]
  },
  {
   "cell_type": "code",
   "execution_count": 102,
   "metadata": {},
   "outputs": [
    {
     "data": {
      "text/plain": [
       "<lightfm.lightfm.LightFM at 0x201189f7848>"
      ]
     },
     "execution_count": 102,
     "metadata": {},
     "output_type": "execute_result"
    }
   ],
   "source": [
    "lfm.fit(trn,epochs=30)"
   ]
  },
  {
   "cell_type": "code",
   "execution_count": 103,
   "metadata": {},
   "outputs": [],
   "source": [
    "pred_lfm1 = lfm.predict(test[:100,0],test[:100,1])"
   ]
  },
  {
   "cell_type": "code",
   "execution_count": 64,
   "metadata": {},
   "outputs": [
    {
     "data": {
      "text/plain": [
       "(1517, 9501)"
      ]
     },
     "execution_count": 64,
     "metadata": {},
     "output_type": "execute_result"
    }
   ],
   "source": [
    "trn.shape"
   ]
  },
  {
   "cell_type": "code",
   "execution_count": 65,
   "metadata": {},
   "outputs": [
    {
     "data": {
      "text/plain": [
       "(1517, 9501)"
      ]
     },
     "execution_count": 65,
     "metadata": {},
     "output_type": "execute_result"
    }
   ],
   "source": [
    "tst.shape"
   ]
  },
  {
   "cell_type": "code",
   "execution_count": 55,
   "metadata": {},
   "outputs": [
    {
     "data": {
      "text/html": [
       "<div>\n",
       "<style scoped>\n",
       "    .dataframe tbody tr th:only-of-type {\n",
       "        vertical-align: middle;\n",
       "    }\n",
       "\n",
       "    .dataframe tbody tr th {\n",
       "        vertical-align: top;\n",
       "    }\n",
       "\n",
       "    .dataframe thead th {\n",
       "        text-align: right;\n",
       "    }\n",
       "</style>\n",
       "<table border=\"1\" class=\"dataframe\">\n",
       "  <thead>\n",
       "    <tr style=\"text-align: right;\">\n",
       "      <th></th>\n",
       "      <th>0</th>\n",
       "      <th>1</th>\n",
       "      <th>2</th>\n",
       "      <th>3</th>\n",
       "      <th>4</th>\n",
       "      <th>5</th>\n",
       "      <th>6</th>\n",
       "      <th>7</th>\n",
       "      <th>8</th>\n",
       "      <th>9</th>\n",
       "      <th>...</th>\n",
       "      <th>9491</th>\n",
       "      <th>9492</th>\n",
       "      <th>9493</th>\n",
       "      <th>9494</th>\n",
       "      <th>9495</th>\n",
       "      <th>9496</th>\n",
       "      <th>9497</th>\n",
       "      <th>9498</th>\n",
       "      <th>9499</th>\n",
       "      <th>9500</th>\n",
       "    </tr>\n",
       "  </thead>\n",
       "  <tbody>\n",
       "    <tr>\n",
       "      <td>0</td>\n",
       "      <td>0.0</td>\n",
       "      <td>0.0</td>\n",
       "      <td>0.0</td>\n",
       "      <td>0.0</td>\n",
       "      <td>0.0</td>\n",
       "      <td>0.0</td>\n",
       "      <td>0.0</td>\n",
       "      <td>0.0</td>\n",
       "      <td>0.0</td>\n",
       "      <td>0.0</td>\n",
       "      <td>...</td>\n",
       "      <td>0.0</td>\n",
       "      <td>0.0</td>\n",
       "      <td>0.0</td>\n",
       "      <td>0.0</td>\n",
       "      <td>0.0</td>\n",
       "      <td>0.0</td>\n",
       "      <td>0.0</td>\n",
       "      <td>0.0</td>\n",
       "      <td>0.0</td>\n",
       "      <td>0.0</td>\n",
       "    </tr>\n",
       "    <tr>\n",
       "      <td>1</td>\n",
       "      <td>0.0</td>\n",
       "      <td>0.0</td>\n",
       "      <td>0.0</td>\n",
       "      <td>0.0</td>\n",
       "      <td>0.0</td>\n",
       "      <td>0.0</td>\n",
       "      <td>0.0</td>\n",
       "      <td>0.0</td>\n",
       "      <td>0.0</td>\n",
       "      <td>0.0</td>\n",
       "      <td>...</td>\n",
       "      <td>0.0</td>\n",
       "      <td>0.0</td>\n",
       "      <td>0.0</td>\n",
       "      <td>0.0</td>\n",
       "      <td>0.0</td>\n",
       "      <td>0.0</td>\n",
       "      <td>0.0</td>\n",
       "      <td>0.0</td>\n",
       "      <td>0.0</td>\n",
       "      <td>0.0</td>\n",
       "    </tr>\n",
       "    <tr>\n",
       "      <td>2</td>\n",
       "      <td>0.0</td>\n",
       "      <td>0.0</td>\n",
       "      <td>0.0</td>\n",
       "      <td>0.0</td>\n",
       "      <td>0.0</td>\n",
       "      <td>0.0</td>\n",
       "      <td>0.0</td>\n",
       "      <td>0.0</td>\n",
       "      <td>0.0</td>\n",
       "      <td>0.0</td>\n",
       "      <td>...</td>\n",
       "      <td>0.0</td>\n",
       "      <td>0.0</td>\n",
       "      <td>0.0</td>\n",
       "      <td>0.0</td>\n",
       "      <td>0.0</td>\n",
       "      <td>0.0</td>\n",
       "      <td>0.0</td>\n",
       "      <td>0.0</td>\n",
       "      <td>0.0</td>\n",
       "      <td>0.0</td>\n",
       "    </tr>\n",
       "    <tr>\n",
       "      <td>3</td>\n",
       "      <td>0.0</td>\n",
       "      <td>0.0</td>\n",
       "      <td>0.0</td>\n",
       "      <td>0.0</td>\n",
       "      <td>0.0</td>\n",
       "      <td>0.0</td>\n",
       "      <td>0.0</td>\n",
       "      <td>0.0</td>\n",
       "      <td>0.0</td>\n",
       "      <td>0.0</td>\n",
       "      <td>...</td>\n",
       "      <td>0.0</td>\n",
       "      <td>0.0</td>\n",
       "      <td>0.0</td>\n",
       "      <td>0.0</td>\n",
       "      <td>0.0</td>\n",
       "      <td>0.0</td>\n",
       "      <td>0.0</td>\n",
       "      <td>0.0</td>\n",
       "      <td>0.0</td>\n",
       "      <td>0.0</td>\n",
       "    </tr>\n",
       "    <tr>\n",
       "      <td>4</td>\n",
       "      <td>0.0</td>\n",
       "      <td>0.0</td>\n",
       "      <td>0.0</td>\n",
       "      <td>0.0</td>\n",
       "      <td>0.0</td>\n",
       "      <td>0.0</td>\n",
       "      <td>0.0</td>\n",
       "      <td>0.0</td>\n",
       "      <td>0.0</td>\n",
       "      <td>0.0</td>\n",
       "      <td>...</td>\n",
       "      <td>0.0</td>\n",
       "      <td>0.0</td>\n",
       "      <td>0.0</td>\n",
       "      <td>0.0</td>\n",
       "      <td>0.0</td>\n",
       "      <td>0.0</td>\n",
       "      <td>0.0</td>\n",
       "      <td>0.0</td>\n",
       "      <td>0.0</td>\n",
       "      <td>0.0</td>\n",
       "    </tr>\n",
       "  </tbody>\n",
       "</table>\n",
       "<p>5 rows × 9501 columns</p>\n",
       "</div>"
      ],
      "text/plain": [
       "     0    1    2    3    4    5    6    7    8    9  ...  9491  9492  9493  \\\n",
       "0  0.0  0.0  0.0  0.0  0.0  0.0  0.0  0.0  0.0  0.0  ...   0.0   0.0   0.0   \n",
       "1  0.0  0.0  0.0  0.0  0.0  0.0  0.0  0.0  0.0  0.0  ...   0.0   0.0   0.0   \n",
       "2  0.0  0.0  0.0  0.0  0.0  0.0  0.0  0.0  0.0  0.0  ...   0.0   0.0   0.0   \n",
       "3  0.0  0.0  0.0  0.0  0.0  0.0  0.0  0.0  0.0  0.0  ...   0.0   0.0   0.0   \n",
       "4  0.0  0.0  0.0  0.0  0.0  0.0  0.0  0.0  0.0  0.0  ...   0.0   0.0   0.0   \n",
       "\n",
       "   9494  9495  9496  9497  9498  9499  9500  \n",
       "0   0.0   0.0   0.0   0.0   0.0   0.0   0.0  \n",
       "1   0.0   0.0   0.0   0.0   0.0   0.0   0.0  \n",
       "2   0.0   0.0   0.0   0.0   0.0   0.0   0.0  \n",
       "3   0.0   0.0   0.0   0.0   0.0   0.0   0.0  \n",
       "4   0.0   0.0   0.0   0.0   0.0   0.0   0.0  \n",
       "\n",
       "[5 rows x 9501 columns]"
      ]
     },
     "execution_count": 55,
     "metadata": {},
     "output_type": "execute_result"
    }
   ],
   "source": [
    "rat_sparse.head()"
   ]
  },
  {
   "cell_type": "code",
   "execution_count": 76,
   "metadata": {},
   "outputs": [
    {
     "data": {
      "text/plain": [
       "array([[0., 0., 0., 0., 0., 0., 0., 0., 0., 0., 0., 0., 0., 0., 0., 0.,\n",
       "        0., 0., 0., 0.],\n",
       "       [0., 0., 0., 0., 0., 0., 0., 0., 0., 0., 0., 0., 0., 0., 0., 0.,\n",
       "        0., 0., 0., 0.],\n",
       "       [0., 0., 0., 0., 0., 0., 0., 0., 0., 0., 0., 0., 0., 0., 0., 0.,\n",
       "        0., 0., 0., 0.],\n",
       "       [0., 0., 0., 0., 0., 0., 0., 0., 0., 0., 0., 0., 0., 0., 0., 0.,\n",
       "        0., 0., 0., 0.],\n",
       "       [0., 0., 0., 0., 0., 0., 0., 0., 0., 0., 0., 0., 0., 0., 0., 0.,\n",
       "        0., 0., 0., 0.],\n",
       "       [0., 0., 0., 0., 0., 0., 0., 0., 0., 0., 0., 0., 0., 0., 0., 0.,\n",
       "        0., 0., 0., 0.],\n",
       "       [0., 0., 0., 0., 0., 0., 0., 0., 0., 0., 0., 0., 0., 0., 0., 0.,\n",
       "        0., 0., 0., 0.],\n",
       "       [0., 0., 0., 0., 0., 0., 0., 0., 0., 0., 0., 0., 0., 0., 0., 0.,\n",
       "        0., 0., 0., 0.],\n",
       "       [0., 0., 0., 0., 0., 0., 0., 0., 0., 0., 0., 0., 0., 0., 0., 0.,\n",
       "        0., 0., 0., 0.],\n",
       "       [0., 0., 0., 0., 0., 0., 0., 0., 0., 0., 0., 0., 0., 0., 0., 0.,\n",
       "        0., 0., 0., 0.]])"
      ]
     },
     "execution_count": 76,
     "metadata": {},
     "output_type": "execute_result"
    }
   ],
   "source": [
    "test[:10,:20]"
   ]
  },
  {
   "cell_type": "code",
   "execution_count": 104,
   "metadata": {},
   "outputs": [
    {
     "data": {
      "text/plain": [
       "array([3.73442101, 3.73442101, 3.73442101, 3.73442101, 3.73442101,\n",
       "       3.73442101, 3.73442101, 3.73442101, 3.73442101, 3.73442101,\n",
       "       3.73442101, 3.73442101, 3.73442101, 3.73442101, 3.73442101,\n",
       "       3.73442101, 3.73442101, 3.73442101, 3.73442101, 3.73442101,\n",
       "       3.73442101, 3.73442101, 3.73442101, 3.73442101, 3.73442101,\n",
       "       3.73442101, 3.73442101, 3.73442101, 3.73442101, 3.73442101,\n",
       "       3.73442101, 3.73442101, 3.73442101, 3.73442101, 3.73442101,\n",
       "       3.73442101, 3.73442101, 3.73442101, 3.73442101, 3.73442101,\n",
       "       3.73442101, 3.73442101, 3.73442101, 3.73442101, 3.73442101,\n",
       "       3.73442101, 3.73442101, 3.73442101, 3.73442101, 3.73442101,\n",
       "       3.73442101, 3.73442101, 3.73442101, 3.73442101, 3.73442101,\n",
       "       3.73442101, 3.73442101, 3.73442101, 3.73442101, 3.73442101,\n",
       "       3.73442101, 3.73442101, 3.73442101, 3.73442101, 3.73442101,\n",
       "       3.73442101, 3.73442101, 3.73442101, 3.73442101, 3.73442101,\n",
       "       3.73442101, 3.73442101, 3.73442101, 3.73442101, 3.73442101,\n",
       "       3.73442101, 3.73442101, 3.73442101, 3.73442101, 3.73442101,\n",
       "       3.73442101, 3.73442101, 3.73442101, 3.73442101, 3.73442101,\n",
       "       3.73442101, 3.73442101, 3.73442101, 3.73442101, 3.73442101,\n",
       "       3.73442101, 3.73442101, 3.73442101, 3.73442101, 3.73442101,\n",
       "       3.73442101, 3.73442101, 3.73442101, 3.73442101, 3.73442101])"
      ]
     },
     "execution_count": 104,
     "metadata": {},
     "output_type": "execute_result"
    }
   ],
   "source": [
    "pred_lfm1"
   ]
  },
  {
   "cell_type": "code",
   "execution_count": 6,
   "metadata": {},
   "outputs": [],
   "source": [
    "#Copy dataframe to start preparing for surprise\n",
    "\n",
    "df = users.copy()"
   ]
  },
  {
   "cell_type": "code",
   "execution_count": 7,
   "metadata": {},
   "outputs": [],
   "source": [
    "#import necessary surprise packages\n",
    "\n",
    "from surprise import Reader, Dataset\n",
    "from surprise.model_selection import train_test_split"
   ]
  },
  {
   "cell_type": "code",
   "execution_count": 8,
   "metadata": {},
   "outputs": [
    {
     "data": {
      "text/html": [
       "<div>\n",
       "<style scoped>\n",
       "    .dataframe tbody tr th:only-of-type {\n",
       "        vertical-align: middle;\n",
       "    }\n",
       "\n",
       "    .dataframe tbody tr th {\n",
       "        vertical-align: top;\n",
       "    }\n",
       "\n",
       "    .dataframe thead th {\n",
       "        text-align: right;\n",
       "    }\n",
       "</style>\n",
       "<table border=\"1\" class=\"dataframe\">\n",
       "  <thead>\n",
       "    <tr style=\"text-align: right;\">\n",
       "      <th></th>\n",
       "      <th>book_id</th>\n",
       "      <th>user_id</th>\n",
       "      <th>rating</th>\n",
       "      <th>goodreads_book_id</th>\n",
       "      <th>is_div</th>\n",
       "      <th>uid</th>\n",
       "      <th>bid</th>\n",
       "      <th>b_average_rating</th>\n",
       "      <th>title</th>\n",
       "      <th>genre</th>\n",
       "      <th>fav_genre</th>\n",
       "      <th>author</th>\n",
       "    </tr>\n",
       "  </thead>\n",
       "  <tbody>\n",
       "    <tr>\n",
       "      <td>0</td>\n",
       "      <td>1</td>\n",
       "      <td>3662</td>\n",
       "      <td>4</td>\n",
       "      <td>2767052</td>\n",
       "      <td>0</td>\n",
       "      <td>152.0</td>\n",
       "      <td>0.0</td>\n",
       "      <td>4.34</td>\n",
       "      <td>The Hunger Games</td>\n",
       "      <td>young-adult</td>\n",
       "      <td>classics</td>\n",
       "      <td>Suzanne Collins</td>\n",
       "    </tr>\n",
       "    <tr>\n",
       "      <td>1</td>\n",
       "      <td>1</td>\n",
       "      <td>5461</td>\n",
       "      <td>3</td>\n",
       "      <td>2767052</td>\n",
       "      <td>0</td>\n",
       "      <td>206.0</td>\n",
       "      <td>0.0</td>\n",
       "      <td>4.34</td>\n",
       "      <td>The Hunger Games</td>\n",
       "      <td>young-adult</td>\n",
       "      <td>fiction</td>\n",
       "      <td>Suzanne Collins</td>\n",
       "    </tr>\n",
       "    <tr>\n",
       "      <td>2</td>\n",
       "      <td>1</td>\n",
       "      <td>11927</td>\n",
       "      <td>4</td>\n",
       "      <td>2767052</td>\n",
       "      <td>0</td>\n",
       "      <td>396.0</td>\n",
       "      <td>0.0</td>\n",
       "      <td>4.34</td>\n",
       "      <td>The Hunger Games</td>\n",
       "      <td>young-adult</td>\n",
       "      <td>fiction</td>\n",
       "      <td>Suzanne Collins</td>\n",
       "    </tr>\n",
       "    <tr>\n",
       "      <td>3</td>\n",
       "      <td>1</td>\n",
       "      <td>24845</td>\n",
       "      <td>5</td>\n",
       "      <td>2767052</td>\n",
       "      <td>0</td>\n",
       "      <td>785.0</td>\n",
       "      <td>0.0</td>\n",
       "      <td>4.34</td>\n",
       "      <td>The Hunger Games</td>\n",
       "      <td>young-adult</td>\n",
       "      <td>fantasy</td>\n",
       "      <td>Suzanne Collins</td>\n",
       "    </tr>\n",
       "    <tr>\n",
       "      <td>4</td>\n",
       "      <td>1</td>\n",
       "      <td>15494</td>\n",
       "      <td>5</td>\n",
       "      <td>2767052</td>\n",
       "      <td>0</td>\n",
       "      <td>513.0</td>\n",
       "      <td>0.0</td>\n",
       "      <td>4.34</td>\n",
       "      <td>The Hunger Games</td>\n",
       "      <td>young-adult</td>\n",
       "      <td>horror</td>\n",
       "      <td>Suzanne Collins</td>\n",
       "    </tr>\n",
       "  </tbody>\n",
       "</table>\n",
       "</div>"
      ],
      "text/plain": [
       "   book_id  user_id  rating  goodreads_book_id  is_div    uid  bid  \\\n",
       "0        1     3662       4            2767052       0  152.0  0.0   \n",
       "1        1     5461       3            2767052       0  206.0  0.0   \n",
       "2        1    11927       4            2767052       0  396.0  0.0   \n",
       "3        1    24845       5            2767052       0  785.0  0.0   \n",
       "4        1    15494       5            2767052       0  513.0  0.0   \n",
       "\n",
       "   b_average_rating             title        genre fav_genre           author  \n",
       "0              4.34  The Hunger Games  young-adult  classics  Suzanne Collins  \n",
       "1              4.34  The Hunger Games  young-adult   fiction  Suzanne Collins  \n",
       "2              4.34  The Hunger Games  young-adult   fiction  Suzanne Collins  \n",
       "3              4.34  The Hunger Games  young-adult   fantasy  Suzanne Collins  \n",
       "4              4.34  The Hunger Games  young-adult    horror  Suzanne Collins  "
      ]
     },
     "execution_count": 8,
     "metadata": {},
     "output_type": "execute_result"
    }
   ],
   "source": [
    "df.head()"
   ]
  },
  {
   "cell_type": "code",
   "execution_count": 10,
   "metadata": {},
   "outputs": [],
   "source": [
    "#Initialize surprise dataset and split into training and test set\n",
    "\n",
    "from surprise_functions import load_surprise_data, build_model\n",
    "\n",
    "ratings, train = load_surprise_data(df)\n",
    "\n"
   ]
  },
  {
   "cell_type": "code",
   "execution_count": 14,
   "metadata": {},
   "outputs": [
    {
     "name": "stdout",
     "output_type": "stream",
     "text": [
      "Computing the cosine similarity matrix...\n",
      "Done computing similarity matrix.\n"
     ]
    },
    {
     "data": {
      "text/plain": [
       "<surprise.prediction_algorithms.knns.KNNBasic at 0x211e1612948>"
      ]
     },
     "execution_count": 14,
     "metadata": {},
     "output_type": "execute_result"
    }
   ],
   "source": [
    "#Train surprise K-nearest neighbor model\n",
    "surprise_sim_opt = {'name':'cosine','user_based':False}\n",
    "\n",
    "knn = KNNBasic(k=100, min_k=20,sim_options = surprise_sim_opt)\n",
    "\n",
    "knn.fit(train)"
   ]
  },
  {
   "cell_type": "code",
   "execution_count": 14,
   "metadata": {},
   "outputs": [],
   "source": [
    "#predict on the test set with k-nearest neighbor model\n",
    "test = train.build_testset()\n",
    "pred_knn = knn.test(test)"
   ]
  },
  {
   "cell_type": "code",
   "execution_count": 47,
   "metadata": {},
   "outputs": [
    {
     "data": {
      "text/plain": [
       "14321975"
      ]
     },
     "execution_count": 47,
     "metadata": {},
     "output_type": "execute_result"
    }
   ],
   "source": [
    "len(test)"
   ]
  },
  {
   "cell_type": "code",
   "execution_count": 15,
   "metadata": {},
   "outputs": [],
   "source": [
    "from surprise import accuracy"
   ]
  },
  {
   "cell_type": "code",
   "execution_count": 18,
   "metadata": {},
   "outputs": [
    {
     "name": "stdout",
     "output_type": "stream",
     "text": [
      "MAE:  0.2537\n"
     ]
    },
    {
     "data": {
      "text/plain": [
       "0.25373878864597726"
      ]
     },
     "execution_count": 18,
     "metadata": {},
     "output_type": "execute_result"
    }
   ],
   "source": [
    "accuracy.mae(pred_knn)"
   ]
  },
  {
   "cell_type": "code",
   "execution_count": 11,
   "metadata": {},
   "outputs": [],
   "source": [
    "#Initialize surprise SVD model\n",
    "\n",
    "svd = SVD(n_epochs = 50)"
   ]
  },
  {
   "cell_type": "code",
   "execution_count": 12,
   "metadata": {},
   "outputs": [
    {
     "data": {
      "text/plain": [
       "<surprise.prediction_algorithms.matrix_factorization.SVD at 0x19da9d9d808>"
      ]
     },
     "execution_count": 12,
     "metadata": {},
     "output_type": "execute_result"
    }
   ],
   "source": [
    "#fit training set data\n",
    "\n",
    "svd.fit(train)"
   ]
  },
  {
   "cell_type": "code",
   "execution_count": 13,
   "metadata": {},
   "outputs": [
    {
     "ename": "NameError",
     "evalue": "name 'test' is not defined",
     "output_type": "error",
     "traceback": [
      "\u001b[1;31m---------------------------------------------------------------------------\u001b[0m",
      "\u001b[1;31mNameError\u001b[0m                                 Traceback (most recent call last)",
      "\u001b[1;32m<ipython-input-13-8d58474c5cd3>\u001b[0m in \u001b[0;36m<module>\u001b[1;34m\u001b[0m\n\u001b[0;32m      1\u001b[0m \u001b[1;31m#predict on test set data\u001b[0m\u001b[1;33m\u001b[0m\u001b[1;33m\u001b[0m\u001b[1;33m\u001b[0m\u001b[0m\n\u001b[0;32m      2\u001b[0m \u001b[1;33m\u001b[0m\u001b[0m\n\u001b[1;32m----> 3\u001b[1;33m \u001b[0mpred_svd\u001b[0m \u001b[1;33m=\u001b[0m \u001b[0msvd\u001b[0m\u001b[1;33m.\u001b[0m\u001b[0mtest\u001b[0m\u001b[1;33m(\u001b[0m\u001b[0mtest\u001b[0m\u001b[1;33m)\u001b[0m\u001b[1;33m\u001b[0m\u001b[1;33m\u001b[0m\u001b[0m\n\u001b[0m",
      "\u001b[1;31mNameError\u001b[0m: name 'test' is not defined"
     ]
    }
   ],
   "source": [
    "#predict on test set data\n",
    "\n",
    "pred_svd = svd.test(test)"
   ]
  },
  {
   "cell_type": "code",
   "execution_count": 35,
   "metadata": {},
   "outputs": [
    {
     "data": {
      "text/plain": [
       "14321975"
      ]
     },
     "execution_count": 35,
     "metadata": {},
     "output_type": "execute_result"
    }
   ],
   "source": [
    "len(pred_svd)"
   ]
  },
  {
   "cell_type": "code",
   "execution_count": 44,
   "metadata": {},
   "outputs": [],
   "source": [
    "def get_top_n(predictions, n=10):\n",
    "    '''Return the top-N recommendation for each user from a set of predictions.\n",
    "\n",
    "    Args:\n",
    "        predictions(list of Prediction objects): The list of predictions, as\n",
    "            returned by the test method of an algorithm.\n",
    "        n(int): The number of recommendation to output for each user. Default\n",
    "            is 10.\n",
    "\n",
    "    Returns: top_n (array): array of shape (num_users, n) with top n predictions for each user id.\n",
    "    \n",
    "    '''\n",
    "\n",
    "    # Creates a matrix with shape (n_users, n_books).\n",
    "    rat_pred = np.zeros((1517,9501))\n",
    "    \n",
    "    # Fills the matrix with the average rating for book weighted by a factor of 0.8 to ensure booksthat are personally matched with users gets returned first.\n",
    "    for bid in range(rat_pred.shape[1]):\n",
    "        rat_pred[:,bid] = users.loc[users['bid']==bid]['b_average_rating'].iloc[0]*0.8*div_m.iloc[int(bid)][1]\n",
    "\n",
    "    #Fills in actual prediction for given user id, book id combination where the estimate is non-zero.\n",
    "    for uid, bid, true_r, est, _ in predictions:\n",
    "        if est > 0.6:\n",
    "            rat_pred[int(uid)][int(bid)] = est*div_m.iloc[int(bid)][1]\n",
    "\n",
    "    # Sorts the predictions for each user and retrieve the n highest ones.\n",
    "    top_n = np.zeros((rat_pred.shape[0],n))\n",
    "    \n",
    "    for uid in range(rat_pred.shape[0]):\n",
    "        top_n[uid] = rat_pred[uid].argsort()[::-1][:n]\n",
    "            \n",
    "    return top_n\n"
   ]
  },
  {
   "cell_type": "code",
   "execution_count": 41,
   "metadata": {},
   "outputs": [
    {
     "data": {
      "text/plain": [
       "Prediction(uid=152.0, iid=6.0, r_ui=3.8152301401997217, est=4.191640661411605, details={'was_impossible': False})"
      ]
     },
     "execution_count": 41,
     "metadata": {},
     "output_type": "execute_result"
    }
   ],
   "source": [
    "pred_svd[2]"
   ]
  },
  {
   "cell_type": "code",
   "execution_count": null,
   "metadata": {},
   "outputs": [],
   "source": [
    "pd.DataFrame(pred_svd, columns =['user_id', 'book_id', 'r_ui', 'rating' ,'details']).to_csv('prediction_surprise_svd.csv',index=None)"
   ]
  },
  {
   "cell_type": "code",
   "execution_count": 138,
   "metadata": {},
   "outputs": [],
   "source": [
    "def get_n_rec_user(df,user_id,model,testset,n=5):\n",
    "    \n",
    "    tst = []\n",
    "    for (uid,bid,rat) in testset:\n",
    "        if uid == user_id:\n",
    "            tst.append((uid,bid,rat))\n",
    "        continue\n",
    "        \n",
    "    pred = model.test(tst)\n",
    "    \n",
    "    # Creates a matrix with shape (n_books).\n",
    "    rat_pred = np.zeros(9501)\n",
    "    \n",
    "    # Fills the matrix with the average rating for book weighted by a factor of 0.8 to ensure booksthat are personally matched with users gets returned first.\n",
    "    for bid in range(len(rat_pred)):\n",
    "        rat_pred[bid] = users.loc[users['bid']==bid]['b_average_rating'].iloc[0]*0.8*div_m.iloc[int(bid)][1]\n",
    "\n",
    "    #Fills in actual prediction for given user id, book id combination where the estimate is non-zero.\n",
    "    for uid, bid, true_r, est, _ in pred:\n",
    "        if est > 0.6:\n",
    "            rat_pred[int(bid)] = est*div_m.iloc[int(bid)][1]\n",
    "\n",
    "    # Sorts the predictions for each user and retrieve the n highest ones.\n",
    "    top_n = rat_pred.argsort()[::-1][:n]\n",
    "    rec_n = titles_from_ids(df,bids=list(top_n))\n",
    "    \n",
    "    return rec_n"
   ]
  },
  {
   "cell_type": "code",
   "execution_count": 141,
   "metadata": {},
   "outputs": [],
   "source": [
    "rec_svd_1500 = get_n_rec_user(users,1500,svd,test)"
   ]
  },
  {
   "cell_type": "code",
   "execution_count": 142,
   "metadata": {},
   "outputs": [
    {
     "data": {
      "text/plain": [
       "['The Song of Achilles',\n",
       " 'Rose Under Fire',\n",
       " 'Into the Wilderness',\n",
       " 'Chains',\n",
       " 'Nefertiti']"
      ]
     },
     "execution_count": 142,
     "metadata": {},
     "output_type": "execute_result"
    }
   ],
   "source": [
    "rec_svd_1500"
   ]
  },
  {
   "cell_type": "code",
   "execution_count": 62,
   "metadata": {},
   "outputs": [
    {
     "data": {
      "text/plain": [
       "1.0"
      ]
     },
     "execution_count": 62,
     "metadata": {},
     "output_type": "execute_result"
    }
   ],
   "source": [
    "div_m.iloc[8787].is_div"
   ]
  },
  {
   "cell_type": "code",
   "execution_count": 105,
   "metadata": {},
   "outputs": [
    {
     "data": {
      "text/plain": [
       "['The Song of Achilles',\n",
       " 'Rose Under Fire',\n",
       " 'Into the Wilderness',\n",
       " 'Chains',\n",
       " 'Nefertiti']"
      ]
     },
     "execution_count": 105,
     "metadata": {},
     "output_type": "execute_result"
    }
   ],
   "source": [
    "titles_from_ids(users,bids=list(rec_svd_1500))"
   ]
  },
  {
   "cell_type": "code",
   "execution_count": 304,
   "metadata": {},
   "outputs": [
    {
     "data": {
      "text/plain": [
       "surprise.dataset.DatasetAutoFolds"
      ]
     },
     "execution_count": 304,
     "metadata": {},
     "output_type": "execute_result"
    }
   ],
   "source": [
    "type(rat_data)"
   ]
  },
  {
   "cell_type": "code",
   "execution_count": 92,
   "metadata": {},
   "outputs": [],
   "source": [
    "from surprise import dump"
   ]
  },
  {
   "cell_type": "code",
   "execution_count": 112,
   "metadata": {},
   "outputs": [],
   "source": [
    "dump.dump('../model_dump_file', algo=svd)"
   ]
  },
  {
   "cell_type": "code",
   "execution_count": 113,
   "metadata": {},
   "outputs": [],
   "source": [
    "_,model = dump.load('../model_dump_file')"
   ]
  },
  {
   "cell_type": "code",
   "execution_count": 114,
   "metadata": {},
   "outputs": [],
   "source": [
    "rec_svd_1500 = get_n_rec_user(1500,model,test,n=5)"
   ]
  },
  {
   "cell_type": "code",
   "execution_count": 106,
   "metadata": {},
   "outputs": [
    {
     "data": {
      "text/plain": [
       "surprise.prediction_algorithms.matrix_factorization.SVD"
      ]
     },
     "execution_count": 106,
     "metadata": {},
     "output_type": "execute_result"
    }
   ],
   "source": [
    "type(model)"
   ]
  },
  {
   "cell_type": "code",
   "execution_count": 133,
   "metadata": {},
   "outputs": [],
   "source": [
    "df2 = pd.DataFrame(test)"
   ]
  },
  {
   "cell_type": "code",
   "execution_count": 137,
   "metadata": {},
   "outputs": [],
   "source": [
    "test_df = pd.read_csv('testset.csv')"
   ]
  },
  {
   "cell_type": "code",
   "execution_count": 136,
   "metadata": {},
   "outputs": [],
   "source": [
    "df2.to_csv('testset.csv')"
   ]
  },
  {
   "cell_type": "code",
   "execution_count": 25,
   "metadata": {},
   "outputs": [
    {
     "name": "stdout",
     "output_type": "stream",
     "text": [
      "0.8467617152961958\n",
      "0.3141430907087179\n",
      "0.8530272787757806\n",
      "0.31696791362409\n",
      "0.8494352159468421\n",
      "0.3219597587720147\n",
      "0.859085878707391\n",
      "0.3212799476621723\n",
      "0.8589242323834752\n",
      "0.3264072217768775\n"
     ]
    }
   ],
   "source": [
    "from surprise.model_selection import KFold\n",
    "from surprise import Reader, Dataset\n",
    "from collections import defaultdict\n",
    "def precision_recall_at_k(predictions, k=10, threshold=3.5):\n",
    "    '''Return precision and recall at k metrics for each user.'''\n",
    "\n",
    "    # First map the predictions to each user.\n",
    "    user_est_true = defaultdict(list)\n",
    "    for uid, _, true_r, est, _ in predictions:\n",
    "        user_est_true[int(uid)].append((est, true_r))\n",
    "\n",
    "    precisions = dict()\n",
    "    recalls = dict()\n",
    "    for uid, user_ratings in user_est_true.items():\n",
    "\n",
    "        # Sort user ratings by estimated value\n",
    "        user_ratings.sort(key=lambda x: x[0], reverse=True)\n",
    "\n",
    "        # Number of relevant items\n",
    "        n_rel = sum((true_r >= threshold) for (_, true_r) in user_ratings)\n",
    "\n",
    "        # Number of recommended items in top k\n",
    "        n_rec_k = sum((est >= threshold) for (est, _) in user_ratings[:k])\n",
    "\n",
    "        # Number of relevant and recommended items in top k\n",
    "        n_rel_and_rec_k = sum(((true_r >= threshold) and (est >= threshold))\n",
    "                              for (est, true_r) in user_ratings[:k])\n",
    "\n",
    "        # Precision@K: Proportion of recommended items that are relevant\n",
    "        precisions[uid] = n_rel_and_rec_k / n_rec_k if n_rec_k != 0 else 1\n",
    "\n",
    "        # Recall@K: Proportion of relevant items that are recommended\n",
    "        recalls[uid] = n_rel_and_rec_k / n_rel if n_rel != 0 else 1\n",
    "\n",
    "    return precisions, recalls\n",
    "\n",
    "reader = Reader()\n",
    "rat_data = Dataset.load_from_df(df[['uid', 'bid', 'rating']], reader)\n",
    "kf = KFold(n_splits=5)\n",
    "\n",
    "for trainset, testset in kf.split(rat_data):\n",
    "    svd.fit(trainset)\n",
    "    predictions = svd.test(testset)\n",
    "    precisions, recalls = precision_recall_at_k(predictions, k=5, threshold=4)\n",
    "\n",
    "    # Precision and recall can then be averaged over all users\n",
    "    print(sum(prec for prec in precisions.values()) / len(precisions))\n",
    "    print(sum(rec for rec in recalls.values()) / len(recalls))"
   ]
  },
  {
   "cell_type": "code",
   "execution_count": 51,
   "metadata": {},
   "outputs": [],
   "source": [
    "preclist = []\n",
    "reclist = []\n",
    "for k in range(10):\n",
    "    precision = 0\n",
    "    recall = 0\n",
    "    for trainset, testset in kf.split(rat_data):\n",
    "        svd.fit(trainset)\n",
    "        predictions = svd.test(testset)\n",
    "        precisions, recalls = precision_recall_at_k(predictions, k, threshold=3.5)\n",
    "        \n",
    "        # Precision and recall can then be averaged over all users\n",
    "        precision += sum(prec for prec in precisions.values()) / len(precisions)\n",
    "        recall += sum(rec for rec in recalls.values()) / len(recalls)\n",
    "        \n",
    "    precision /= 5\n",
    "    recall /=5\n",
    "        \n",
    "    preclist.append(precision)\n",
    "    reclist.append(recall)"
   ]
  },
  {
   "cell_type": "code",
   "execution_count": 53,
   "metadata": {},
   "outputs": [
    {
     "data": {
      "text/plain": [
       "[1.0,\n",
       " 0.7687337500051872,\n",
       " 0.7572476641451233,\n",
       " 0.7470513895700703,\n",
       " 0.741673756968822,\n",
       " 0.7362156939022851,\n",
       " 0.7332543970123659,\n",
       " 0.729486578010049,\n",
       " 0.7293410344794979,\n",
       " 0.7254645247033261]"
      ]
     },
     "execution_count": 53,
     "metadata": {},
     "output_type": "execute_result"
    }
   ],
   "source": [
    "preclist"
   ]
  },
  {
   "cell_type": "code",
   "execution_count": 34,
   "metadata": {},
   "outputs": [],
   "source": [
    "from surprise.prediction_algorithms.random_pred import NormalPredictor"
   ]
  },
  {
   "cell_type": "code",
   "execution_count": 35,
   "metadata": {},
   "outputs": [],
   "source": [
    "baseline = NormalPredictor()"
   ]
  },
  {
   "cell_type": "code",
   "execution_count": 36,
   "metadata": {},
   "outputs": [
    {
     "name": "stdout",
     "output_type": "stream",
     "text": [
      "0.6578190665781904\n",
      "0.35824087631884527\n",
      "0.6658023049645385\n",
      "0.37351427068576615\n",
      "0.6624916943521595\n",
      "0.3679515246306706\n",
      "0.6594842850818945\n",
      "0.3704295889921794\n",
      "0.6610926418439717\n",
      "0.37162367639166377\n"
     ]
    }
   ],
   "source": [
    "for trainset, testset in kf.split(rat_data):\n",
    "    baseline.fit(trainset)\n",
    "    predictions = baseline.test(testset)\n",
    "    precisions, recalls = precision_recall_at_k(predictions, k=5, threshold=4)\n",
    "\n",
    "    # Precision and recall can then be averaged over all users\n",
    "    print(sum(prec for prec in precisions.values()) / len(precisions))\n",
    "    print(sum(rec for rec in recalls.values()) / len(recalls))"
   ]
  },
  {
   "cell_type": "code",
   "execution_count": 54,
   "metadata": {},
   "outputs": [],
   "source": [
    "precbase = []\n",
    "recbase = []\n",
    "for k in range(10):\n",
    "    precision = 0\n",
    "    recall = 0\n",
    "    for trainset, testset in kf.split(rat_data):\n",
    "        baseline.fit(trainset)\n",
    "        predictions = baseline.test(testset)\n",
    "        precisions, recalls = precision_recall_at_k(predictions, k, threshold=3.5)\n",
    "        \n",
    "        # Precision and recall can then be averaged over all users\n",
    "        precision += sum(prec for prec in precisions.values()) / len(precisions)\n",
    "        recall += sum(rec for rec in recalls.values()) / len(recalls)\n",
    "        \n",
    "    precision /= 5\n",
    "    recall /=5\n",
    "        \n",
    "    precbase.append(precision)\n",
    "    recbase.append(recall)"
   ]
  },
  {
   "cell_type": "code",
   "execution_count": 123,
   "metadata": {},
   "outputs": [
    {
     "data": {
      "image/png": "[encoded data removed]",
      "text/plain": [
       "<Figure size 576x432 with 1 Axes>"
      ]
     },
     "metadata": {},
     "output_type": "display_data"
    }
   ],
   "source": [
    "sns.set_style(\"whitegrid\")\n",
    "plt.figure(figsize=(8,6))\n",
    "plt.plot(list(range(1,11)),preclist,'navy',list(range(1,11)),precbase,'teal')\n",
    "plt.grid(b=None)\n",
    "plt.xlabel('Number of recommendations (k)',fontsize=12)\n",
    "plt.ylabel('Precision at k',fontsize=12)\n",
    "plt.legend(['Model Precision','Baseline Precision'],loc='best',fontsize=12)\n",
    "plt.savefig('../eda/precision-1t-k.png',dpi=600)"
   ]
  },
  {
   "cell_type": "code",
   "execution_count": 71,
   "metadata": {},
   "outputs": [],
   "source": [
    "from surprise.model_selection.split import train_test_split"
   ]
  },
  {
   "cell_type": "code",
   "execution_count": 72,
   "metadata": {},
   "outputs": [],
   "source": [
    "train, test = train_test_split(rat_data)"
   ]
  },
  {
   "cell_type": "code",
   "execution_count": 74,
   "metadata": {},
   "outputs": [
    {
     "data": {
      "text/plain": [
       "<surprise.prediction_algorithms.matrix_factorization.SVD at 0x19da9d9d808>"
      ]
     },
     "execution_count": 74,
     "metadata": {},
     "output_type": "execute_result"
    }
   ],
   "source": [
    "svd.fit(train)"
   ]
  },
  {
   "cell_type": "code",
   "execution_count": 75,
   "metadata": {},
   "outputs": [],
   "source": [
    "pred_svd = svd.test(test)"
   ]
  },
  {
   "cell_type": "code",
   "execution_count": 76,
   "metadata": {},
   "outputs": [
    {
     "name": "stdout",
     "output_type": "stream",
     "text": [
      "RMSE: 0.8776\n"
     ]
    },
    {
     "data": {
      "text/plain": [
       "0.8775628025219786"
      ]
     },
     "execution_count": 76,
     "metadata": {},
     "output_type": "execute_result"
    }
   ],
   "source": [
    "accuracy.rmse(pred_svd)"
   ]
  },
  {
   "cell_type": "code",
   "execution_count": 77,
   "metadata": {},
   "outputs": [
    {
     "name": "stdout",
     "output_type": "stream",
     "text": [
      "MAE:  0.6860\n"
     ]
    },
    {
     "data": {
      "text/plain": [
       "0.685988896270322"
      ]
     },
     "execution_count": 77,
     "metadata": {},
     "output_type": "execute_result"
    }
   ],
   "source": [
    "accuracy.mae(pred_svd)"
   ]
  },
  {
   "cell_type": "code",
   "execution_count": 78,
   "metadata": {},
   "outputs": [
    {
     "data": {
      "text/plain": [
       "<surprise.prediction_algorithms.random_pred.NormalPredictor at 0x19dad99b488>"
      ]
     },
     "execution_count": 78,
     "metadata": {},
     "output_type": "execute_result"
    }
   ],
   "source": [
    "baseline.fit(train)"
   ]
  },
  {
   "cell_type": "code",
   "execution_count": 79,
   "metadata": {},
   "outputs": [],
   "source": [
    "pred_base = baseline.test(test)"
   ]
  }
 ],
 "metadata": {
  "kernelspec": {
   "display_name": "Python 3",
   "language": "python",
   "name": "python3"
  },
  "language_info": {
   "codemirror_mode": {
    "name": "ipython",
    "version": 3
   },
   "file_extension": ".py",
   "mimetype": "text/x-python",
   "name": "python",
   "nbconvert_exporter": "python",
   "pygments_lexer": "ipython3",
   "version": "3.7.4"
  }
 },
 "nbformat": 4,
 "nbformat_minor": 2
}
