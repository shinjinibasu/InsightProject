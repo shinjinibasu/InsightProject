{
 "cells": [
  {
   "cell_type": "code",
   "execution_count": 2,
   "metadata": {},
   "outputs": [],
   "source": [
    "import numpy as np\n",
    "import pandas as pd\n",
    "from sklearn.metrics import mean_squared_error\n",
    "from sklearn.impute import SimpleImputer\n",
    "from sklearn.metrics.pairwise import cosine_similarity as cos"
   ]
  },
  {
   "cell_type": "code",
   "execution_count": 3,
   "metadata": {},
   "outputs": [],
   "source": [
    "%matplotlib inline\n",
    "import matplotlib.pyplot as plt\n",
    "import seaborn as sns\n",
    "sns.set()"
   ]
  },
  {
   "cell_type": "code",
   "execution_count": 4,
   "metadata": {},
   "outputs": [],
   "source": [
    "def get_matrix_user_v_book(user_df):\n",
    "    \n",
    "    \"\"\"Returns the user-book ratings matrix.\"\"\"\n",
    "    \n",
    "    n_u = user_df.uid.nunique()\n",
    "    n_b = user_df.bid.nunique()\n",
    "    \n",
    "    matrix_r = np.zeros((n_u,n_b))\n",
    "    \n",
    "    for i in range(user_df.shape[0]):\n",
    "        #Extract user_id, book_id and rating for each entry\n",
    "        u = int(user_df.uid[i])\n",
    "        b = int(user_df.bid[i])\n",
    "        r = user_df.rating[i]\n",
    "        \n",
    "        #Enter the rating against the correct element in the matrix\n",
    "        matrix_r[u][b] = r\n",
    "        \n",
    "    return matrix_r"
   ]
  },
  {
   "cell_type": "code",
   "execution_count": 5,
   "metadata": {},
   "outputs": [],
   "source": [
    "def get_similarity(m,attr='user',method='sklearn',eps=10**(-10)):\n",
    "    \n",
    "    \"\"\"Finds the similarity-matrix given matrix m. Possibly values for kwargs are\n",
    "     attr = {'user','book'},\n",
    "     method = {'sklearn': uses scikit-learn cosine similarity,'slow','fast'},\n",
    "     div_filter = Boolean.\n",
    "     eps is a small number to avoid zero-division error in the manually defined function.\"\"\"\n",
    "    \n",
    "    if method == 'sklearn':\n",
    "        from sklearn.metrics.pairwise import cosine_similarity as cos\n",
    "        \n",
    "        if attr == 'user':\n",
    "            sim = cos(m, m.T)\n",
    "            \n",
    "        elif attr== 'book':\n",
    "            sim = cos(m.T, m)\n",
    "        else:\n",
    "            raise ValueError(\"Illegal argument. {} is not a permitted value for argument 'attr'\".format(attr))\n",
    "        \n",
    "    elif method == 'manual':\n",
    "        if attr=='user':\n",
    "            sim = m.dot(m.T) + eps\n",
    "        elif attr=='book':\n",
    "            sim = (m.T).dot(m) + eps\n",
    "        else:\n",
    "            raise ValueError(\"Illegal argument. {} is not a permitted value for argument 'attr'\".format(attr))\n",
    "        norm = np.array(np.sqrt(np.diagonal(sim)))\n",
    "        sim = sim/(norm*norm.T)\n",
    "        \n",
    "    else:\n",
    "        raise ValueError(\"Illegal argument. {} is not a permitted value for argument 'method'\".format(method))\n",
    "    \n",
    "    \n",
    "    return sim       \n",
    "    "
   ]
  },
  {
   "cell_type": "code",
   "execution_count": 6,
   "metadata": {},
   "outputs": [],
   "source": [
    "def get_pred_simple(m,s,div,attr='book',div_filter=False):\n",
    "    \n",
    "    if attr == 'book':\n",
    "        pred = m.dot(s) / np.array([np.abs(s).sum(axis=1)])\n",
    "    elif attr == 'user':\n",
    "        pred= s.dot(m) / np.array([np.abs(s).sum(axis=1)]).T\n",
    "    \n",
    "    if div_filter:\n",
    "        \n",
    "        pred[i,j] = pred[i,j]*div[i]\n",
    "        \n",
    "    return pred\n",
    "        "
   ]
  },
  {
   "cell_type": "code",
   "execution_count": 7,
   "metadata": {},
   "outputs": [],
   "source": [
    "books = pd.read_csv('goodreads2/all_book_div.csv',index_col=0)\n",
    "users = pd.read_csv('goodreads2/user_book_div2.csv')\n",
    "bookdiv = pd.read_csv('goodreads2/book_diverse1.csv')"
   ]
  },
  {
   "cell_type": "code",
   "execution_count": 8,
   "metadata": {},
   "outputs": [
    {
     "data": {
      "text/html": [
       "<div>\n",
       "<style scoped>\n",
       "    .dataframe tbody tr th:only-of-type {\n",
       "        vertical-align: middle;\n",
       "    }\n",
       "\n",
       "    .dataframe tbody tr th {\n",
       "        vertical-align: top;\n",
       "    }\n",
       "\n",
       "    .dataframe thead th {\n",
       "        text-align: right;\n",
       "    }\n",
       "</style>\n",
       "<table border=\"1\" class=\"dataframe\">\n",
       "  <thead>\n",
       "    <tr style=\"text-align: right;\">\n",
       "      <th></th>\n",
       "      <th>book_id</th>\n",
       "      <th>is_div</th>\n",
       "    </tr>\n",
       "  </thead>\n",
       "  <tbody>\n",
       "    <tr>\n",
       "      <td>0</td>\n",
       "      <td>1</td>\n",
       "      <td>0</td>\n",
       "    </tr>\n",
       "    <tr>\n",
       "      <td>1</td>\n",
       "      <td>2</td>\n",
       "      <td>0</td>\n",
       "    </tr>\n",
       "    <tr>\n",
       "      <td>2</td>\n",
       "      <td>3</td>\n",
       "      <td>0</td>\n",
       "    </tr>\n",
       "    <tr>\n",
       "      <td>3</td>\n",
       "      <td>4</td>\n",
       "      <td>0</td>\n",
       "    </tr>\n",
       "    <tr>\n",
       "      <td>4</td>\n",
       "      <td>5</td>\n",
       "      <td>0</td>\n",
       "    </tr>\n",
       "  </tbody>\n",
       "</table>\n",
       "</div>"
      ],
      "text/plain": [
       "   book_id  is_div\n",
       "0        1       0\n",
       "1        2       0\n",
       "2        3       0\n",
       "3        4       0\n",
       "4        5       0"
      ]
     },
     "execution_count": 8,
     "metadata": {},
     "output_type": "execute_result"
    }
   ],
   "source": [
    "bookdiv.head()"
   ]
  },
  {
   "cell_type": "code",
   "execution_count": 9,
   "metadata": {},
   "outputs": [
    {
     "data": {
      "text/html": [
       "<div>\n",
       "<style scoped>\n",
       "    .dataframe tbody tr th:only-of-type {\n",
       "        vertical-align: middle;\n",
       "    }\n",
       "\n",
       "    .dataframe tbody tr th {\n",
       "        vertical-align: top;\n",
       "    }\n",
       "\n",
       "    .dataframe thead th {\n",
       "        text-align: right;\n",
       "    }\n",
       "</style>\n",
       "<table border=\"1\" class=\"dataframe\">\n",
       "  <thead>\n",
       "    <tr style=\"text-align: right;\">\n",
       "      <th></th>\n",
       "      <th>id</th>\n",
       "      <th>book_id</th>\n",
       "      <th>best_book_id</th>\n",
       "      <th>work_id</th>\n",
       "      <th>books_count</th>\n",
       "      <th>isbn</th>\n",
       "      <th>isbn13</th>\n",
       "      <th>authors</th>\n",
       "      <th>original_publication_year</th>\n",
       "      <th>original_title</th>\n",
       "      <th>...</th>\n",
       "      <th>work_text_reviews_count</th>\n",
       "      <th>ratings_1</th>\n",
       "      <th>ratings_2</th>\n",
       "      <th>ratings_3</th>\n",
       "      <th>ratings_4</th>\n",
       "      <th>ratings_5</th>\n",
       "      <th>goodreads_book_id</th>\n",
       "      <th>is_div</th>\n",
       "      <th>ratings_positive</th>\n",
       "      <th>ratings_negative</th>\n",
       "    </tr>\n",
       "  </thead>\n",
       "  <tbody>\n",
       "    <tr>\n",
       "      <td>0</td>\n",
       "      <td>1</td>\n",
       "      <td>2767052</td>\n",
       "      <td>2767052</td>\n",
       "      <td>2792775</td>\n",
       "      <td>272</td>\n",
       "      <td>439023483</td>\n",
       "      <td>9.780439e+12</td>\n",
       "      <td>Suzanne Collins</td>\n",
       "      <td>2008.0</td>\n",
       "      <td>The Hunger Games</td>\n",
       "      <td>...</td>\n",
       "      <td>155254</td>\n",
       "      <td>66715</td>\n",
       "      <td>127936</td>\n",
       "      <td>560092</td>\n",
       "      <td>1481305</td>\n",
       "      <td>2706317</td>\n",
       "      <td>2767052</td>\n",
       "      <td>0</td>\n",
       "      <td>4747714</td>\n",
       "      <td>194651</td>\n",
       "    </tr>\n",
       "    <tr>\n",
       "      <td>1</td>\n",
       "      <td>2</td>\n",
       "      <td>3</td>\n",
       "      <td>3</td>\n",
       "      <td>4640799</td>\n",
       "      <td>491</td>\n",
       "      <td>439554934</td>\n",
       "      <td>9.780440e+12</td>\n",
       "      <td>J.K. Rowling, Mary GrandPré</td>\n",
       "      <td>1997.0</td>\n",
       "      <td>Harry Potter and the Philosopher's Stone</td>\n",
       "      <td>...</td>\n",
       "      <td>75867</td>\n",
       "      <td>75504</td>\n",
       "      <td>101676</td>\n",
       "      <td>455024</td>\n",
       "      <td>1156318</td>\n",
       "      <td>3011543</td>\n",
       "      <td>3</td>\n",
       "      <td>0</td>\n",
       "      <td>4622885</td>\n",
       "      <td>177180</td>\n",
       "    </tr>\n",
       "    <tr>\n",
       "      <td>2</td>\n",
       "      <td>3</td>\n",
       "      <td>41865</td>\n",
       "      <td>41865</td>\n",
       "      <td>3212258</td>\n",
       "      <td>226</td>\n",
       "      <td>316015849</td>\n",
       "      <td>9.780316e+12</td>\n",
       "      <td>Stephenie Meyer</td>\n",
       "      <td>2005.0</td>\n",
       "      <td>Twilight</td>\n",
       "      <td>...</td>\n",
       "      <td>95009</td>\n",
       "      <td>456191</td>\n",
       "      <td>436802</td>\n",
       "      <td>793319</td>\n",
       "      <td>875073</td>\n",
       "      <td>1355439</td>\n",
       "      <td>41865</td>\n",
       "      <td>0</td>\n",
       "      <td>3023831</td>\n",
       "      <td>892993</td>\n",
       "    </tr>\n",
       "    <tr>\n",
       "      <td>3</td>\n",
       "      <td>4</td>\n",
       "      <td>2657</td>\n",
       "      <td>2657</td>\n",
       "      <td>3275794</td>\n",
       "      <td>487</td>\n",
       "      <td>61120081</td>\n",
       "      <td>9.780061e+12</td>\n",
       "      <td>Harper Lee</td>\n",
       "      <td>1960.0</td>\n",
       "      <td>To Kill a Mockingbird</td>\n",
       "      <td>...</td>\n",
       "      <td>72586</td>\n",
       "      <td>60427</td>\n",
       "      <td>117415</td>\n",
       "      <td>446835</td>\n",
       "      <td>1001952</td>\n",
       "      <td>1714267</td>\n",
       "      <td>2657</td>\n",
       "      <td>0</td>\n",
       "      <td>3163054</td>\n",
       "      <td>177842</td>\n",
       "    </tr>\n",
       "    <tr>\n",
       "      <td>4</td>\n",
       "      <td>5</td>\n",
       "      <td>4671</td>\n",
       "      <td>4671</td>\n",
       "      <td>245494</td>\n",
       "      <td>1356</td>\n",
       "      <td>743273567</td>\n",
       "      <td>9.780743e+12</td>\n",
       "      <td>F. Scott Fitzgerald</td>\n",
       "      <td>1925.0</td>\n",
       "      <td>The Great Gatsby</td>\n",
       "      <td>...</td>\n",
       "      <td>51992</td>\n",
       "      <td>86236</td>\n",
       "      <td>197621</td>\n",
       "      <td>606158</td>\n",
       "      <td>936012</td>\n",
       "      <td>947718</td>\n",
       "      <td>4671</td>\n",
       "      <td>0</td>\n",
       "      <td>2489888</td>\n",
       "      <td>283857</td>\n",
       "    </tr>\n",
       "  </tbody>\n",
       "</table>\n",
       "<p>5 rows × 25 columns</p>\n",
       "</div>"
      ],
      "text/plain": [
       "   id  book_id  best_book_id  work_id  books_count       isbn        isbn13  \\\n",
       "0   1  2767052       2767052  2792775          272  439023483  9.780439e+12   \n",
       "1   2        3             3  4640799          491  439554934  9.780440e+12   \n",
       "2   3    41865         41865  3212258          226  316015849  9.780316e+12   \n",
       "3   4     2657          2657  3275794          487   61120081  9.780061e+12   \n",
       "4   5     4671          4671   245494         1356  743273567  9.780743e+12   \n",
       "\n",
       "                       authors  original_publication_year  \\\n",
       "0              Suzanne Collins                     2008.0   \n",
       "1  J.K. Rowling, Mary GrandPré                     1997.0   \n",
       "2              Stephenie Meyer                     2005.0   \n",
       "3                   Harper Lee                     1960.0   \n",
       "4          F. Scott Fitzgerald                     1925.0   \n",
       "\n",
       "                             original_title  ... work_text_reviews_count  \\\n",
       "0                          The Hunger Games  ...                  155254   \n",
       "1  Harry Potter and the Philosopher's Stone  ...                   75867   \n",
       "2                                  Twilight  ...                   95009   \n",
       "3                     To Kill a Mockingbird  ...                   72586   \n",
       "4                          The Great Gatsby  ...                   51992   \n",
       "\n",
       "  ratings_1  ratings_2  ratings_3  ratings_4  ratings_5  goodreads_book_id  \\\n",
       "0     66715     127936     560092    1481305    2706317            2767052   \n",
       "1     75504     101676     455024    1156318    3011543                  3   \n",
       "2    456191     436802     793319     875073    1355439              41865   \n",
       "3     60427     117415     446835    1001952    1714267               2657   \n",
       "4     86236     197621     606158     936012     947718               4671   \n",
       "\n",
       "   is_div  ratings_positive  ratings_negative  \n",
       "0       0           4747714            194651  \n",
       "1       0           4622885            177180  \n",
       "2       0           3023831            892993  \n",
       "3       0           3163054            177842  \n",
       "4       0           2489888            283857  \n",
       "\n",
       "[5 rows x 25 columns]"
      ]
     },
     "execution_count": 9,
     "metadata": {},
     "output_type": "execute_result"
    }
   ],
   "source": [
    "books.head()"
   ]
  },
  {
   "cell_type": "code",
   "execution_count": 10,
   "metadata": {},
   "outputs": [
    {
     "data": {
      "text/plain": [
       "array(['Stephenie Meyer', 'Meg Cabot', 'Leigh Nichols, Dean Koontz',\n",
       "       'Erin Hunter'], dtype=object)"
      ]
     },
     "execution_count": 10,
     "metadata": {},
     "output_type": "execute_result"
    }
   ],
   "source": [
    "books.loc[books['original_title'] == 'Twilight']['authors'].unique()"
   ]
  },
  {
   "cell_type": "code",
   "execution_count": 11,
   "metadata": {},
   "outputs": [
    {
     "data": {
      "text/plain": [
       "<matplotlib.axes._subplots.AxesSubplot at 0x19678acea48>"
      ]
     },
     "execution_count": 11,
     "metadata": {},
     "output_type": "execute_result"
    },
    {
     "data": {
      "image/png": "[encoded data removed]",
      "text/plain": [
       "<Figure size 432x288 with 1 Axes>"
      ]
     },
     "metadata": {
      "needs_background": "light"
     },
     "output_type": "display_data"
    }
   ],
   "source": [
    "books.groupby('is_div')['ratings_positive'].sum().reset_index().plot.bar(x='is_div',y='ratings_positive')"
   ]
  },
  {
   "cell_type": "code",
   "execution_count": 12,
   "metadata": {},
   "outputs": [
    {
     "data": {
      "text/plain": [
       "<matplotlib.axes._subplots.AxesSubplot at 0x1967a8cf9c8>"
      ]
     },
     "execution_count": 12,
     "metadata": {},
     "output_type": "execute_result"
    },
    {
     "data": {
      "image/png": "[encoded data removed]",
      "text/plain": [
       "<Figure size 432x288 with 1 Axes>"
      ]
     },
     "metadata": {
      "needs_background": "light"
     },
     "output_type": "display_data"
    }
   ],
   "source": [
    "books.groupby('is_div')['ratings_positive'].sum().reset_index().plot.bar(x='is_div',y='ratings_positive')"
   ]
  },
  {
   "cell_type": "code",
   "execution_count": 13,
   "metadata": {},
   "outputs": [
    {
     "data": {
      "text/html": [
       "<div>\n",
       "<style scoped>\n",
       "    .dataframe tbody tr th:only-of-type {\n",
       "        vertical-align: middle;\n",
       "    }\n",
       "\n",
       "    .dataframe tbody tr th {\n",
       "        vertical-align: top;\n",
       "    }\n",
       "\n",
       "    .dataframe thead th {\n",
       "        text-align: right;\n",
       "    }\n",
       "</style>\n",
       "<table border=\"1\" class=\"dataframe\">\n",
       "  <thead>\n",
       "    <tr style=\"text-align: right;\">\n",
       "      <th></th>\n",
       "      <th>authors</th>\n",
       "      <th>is_div</th>\n",
       "    </tr>\n",
       "  </thead>\n",
       "  <tbody>\n",
       "    <tr>\n",
       "      <td>0</td>\n",
       "      <td>A. Manette Ansay</td>\n",
       "      <td>0</td>\n",
       "    </tr>\n",
       "    <tr>\n",
       "      <td>1</td>\n",
       "      <td>Lucy Knisley</td>\n",
       "      <td>0</td>\n",
       "    </tr>\n",
       "    <tr>\n",
       "      <td>2</td>\n",
       "      <td>Lucy Sykes, Jo Piazza</td>\n",
       "      <td>0</td>\n",
       "    </tr>\n",
       "    <tr>\n",
       "      <td>3</td>\n",
       "      <td>Ludwig Wittgenstein</td>\n",
       "      <td>0</td>\n",
       "    </tr>\n",
       "    <tr>\n",
       "      <td>4</td>\n",
       "      <td>Ludwig Wittgenstein, G.E.M. Anscombe</td>\n",
       "      <td>0</td>\n",
       "    </tr>\n",
       "    <tr>\n",
       "      <td>...</td>\n",
       "      <td>...</td>\n",
       "      <td>...</td>\n",
       "    </tr>\n",
       "    <tr>\n",
       "      <td>4659</td>\n",
       "      <td>David Sedaris</td>\n",
       "      <td>8</td>\n",
       "    </tr>\n",
       "    <tr>\n",
       "      <td>4660</td>\n",
       "      <td>Tsugumi Ohba, Takeshi Obata</td>\n",
       "      <td>8</td>\n",
       "    </tr>\n",
       "    <tr>\n",
       "      <td>4661</td>\n",
       "      <td>Alexander McCall Smith</td>\n",
       "      <td>10</td>\n",
       "    </tr>\n",
       "    <tr>\n",
       "      <td>4662</td>\n",
       "      <td>Toni Morrison</td>\n",
       "      <td>10</td>\n",
       "    </tr>\n",
       "    <tr>\n",
       "      <td>4663</td>\n",
       "      <td>Tamora Pierce</td>\n",
       "      <td>23</td>\n",
       "    </tr>\n",
       "  </tbody>\n",
       "</table>\n",
       "<p>4664 rows × 2 columns</p>\n",
       "</div>"
      ],
      "text/plain": [
       "                                   authors  is_div\n",
       "0                         A. Manette Ansay       0\n",
       "1                             Lucy Knisley       0\n",
       "2                    Lucy Sykes, Jo Piazza       0\n",
       "3                      Ludwig Wittgenstein       0\n",
       "4     Ludwig Wittgenstein, G.E.M. Anscombe       0\n",
       "...                                    ...     ...\n",
       "4659                         David Sedaris       8\n",
       "4660           Tsugumi Ohba, Takeshi Obata       8\n",
       "4661                Alexander McCall Smith      10\n",
       "4662                         Toni Morrison      10\n",
       "4663                         Tamora Pierce      23\n",
       "\n",
       "[4664 rows x 2 columns]"
      ]
     },
     "execution_count": 13,
     "metadata": {},
     "output_type": "execute_result"
    }
   ],
   "source": [
    "books.groupby('authors')['is_div'].sum().sort_values().reset_index()"
   ]
  },
  {
   "cell_type": "code",
   "execution_count": 14,
   "metadata": {},
   "outputs": [
    {
     "data": {
      "text/html": [
       "<div>\n",
       "<style scoped>\n",
       "    .dataframe tbody tr th:only-of-type {\n",
       "        vertical-align: middle;\n",
       "    }\n",
       "\n",
       "    .dataframe tbody tr th {\n",
       "        vertical-align: top;\n",
       "    }\n",
       "\n",
       "    .dataframe thead th {\n",
       "        text-align: right;\n",
       "    }\n",
       "</style>\n",
       "<table border=\"1\" class=\"dataframe\">\n",
       "  <thead>\n",
       "    <tr style=\"text-align: right;\">\n",
       "      <th></th>\n",
       "      <th>book_id</th>\n",
       "      <th>user_id</th>\n",
       "      <th>rating</th>\n",
       "      <th>goodreads_book_id</th>\n",
       "      <th>is_div</th>\n",
       "    </tr>\n",
       "  </thead>\n",
       "  <tbody>\n",
       "    <tr>\n",
       "      <td>0</td>\n",
       "      <td>1</td>\n",
       "      <td>3662</td>\n",
       "      <td>4</td>\n",
       "      <td>2767052</td>\n",
       "      <td>0</td>\n",
       "    </tr>\n",
       "    <tr>\n",
       "      <td>1</td>\n",
       "      <td>1</td>\n",
       "      <td>5461</td>\n",
       "      <td>3</td>\n",
       "      <td>2767052</td>\n",
       "      <td>0</td>\n",
       "    </tr>\n",
       "    <tr>\n",
       "      <td>2</td>\n",
       "      <td>1</td>\n",
       "      <td>11927</td>\n",
       "      <td>4</td>\n",
       "      <td>2767052</td>\n",
       "      <td>0</td>\n",
       "    </tr>\n",
       "    <tr>\n",
       "      <td>3</td>\n",
       "      <td>1</td>\n",
       "      <td>24845</td>\n",
       "      <td>5</td>\n",
       "      <td>2767052</td>\n",
       "      <td>0</td>\n",
       "    </tr>\n",
       "    <tr>\n",
       "      <td>4</td>\n",
       "      <td>1</td>\n",
       "      <td>15494</td>\n",
       "      <td>5</td>\n",
       "      <td>2767052</td>\n",
       "      <td>0</td>\n",
       "    </tr>\n",
       "  </tbody>\n",
       "</table>\n",
       "</div>"
      ],
      "text/plain": [
       "   book_id  user_id  rating  goodreads_book_id  is_div\n",
       "0        1     3662       4            2767052       0\n",
       "1        1     5461       3            2767052       0\n",
       "2        1    11927       4            2767052       0\n",
       "3        1    24845       5            2767052       0\n",
       "4        1    15494       5            2767052       0"
      ]
     },
     "execution_count": 14,
     "metadata": {},
     "output_type": "execute_result"
    }
   ],
   "source": [
    "users.head()"
   ]
  },
  {
   "cell_type": "code",
   "execution_count": 15,
   "metadata": {},
   "outputs": [
    {
     "data": {
      "text/plain": [
       "1517"
      ]
     },
     "execution_count": 15,
     "metadata": {},
     "output_type": "execute_result"
    }
   ],
   "source": [
    "users.user_id.nunique()"
   ]
  },
  {
   "cell_type": "code",
   "execution_count": 18,
   "metadata": {},
   "outputs": [
    {
     "data": {
      "text/html": [
       "<div>\n",
       "<style scoped>\n",
       "    .dataframe tbody tr th:only-of-type {\n",
       "        vertical-align: middle;\n",
       "    }\n",
       "\n",
       "    .dataframe tbody tr th {\n",
       "        vertical-align: top;\n",
       "    }\n",
       "\n",
       "    .dataframe thead th {\n",
       "        text-align: right;\n",
       "    }\n",
       "</style>\n",
       "<table border=\"1\" class=\"dataframe\">\n",
       "  <thead>\n",
       "    <tr style=\"text-align: right;\">\n",
       "      <th></th>\n",
       "      <th>book_id</th>\n",
       "      <th>is_div</th>\n",
       "    </tr>\n",
       "  </thead>\n",
       "  <tbody>\n",
       "    <tr>\n",
       "      <td>0</td>\n",
       "      <td>1</td>\n",
       "      <td>0</td>\n",
       "    </tr>\n",
       "    <tr>\n",
       "      <td>1</td>\n",
       "      <td>2</td>\n",
       "      <td>0</td>\n",
       "    </tr>\n",
       "    <tr>\n",
       "      <td>2</td>\n",
       "      <td>3</td>\n",
       "      <td>0</td>\n",
       "    </tr>\n",
       "    <tr>\n",
       "      <td>3</td>\n",
       "      <td>4</td>\n",
       "      <td>0</td>\n",
       "    </tr>\n",
       "    <tr>\n",
       "      <td>4</td>\n",
       "      <td>5</td>\n",
       "      <td>0</td>\n",
       "    </tr>\n",
       "  </tbody>\n",
       "</table>\n",
       "</div>"
      ],
      "text/plain": [
       "   book_id  is_div\n",
       "0        1       0\n",
       "1        2       0\n",
       "2        3       0\n",
       "3        4       0\n",
       "4        5       0"
      ]
     },
     "execution_count": 18,
     "metadata": {},
     "output_type": "execute_result"
    }
   ],
   "source": [
    "bookdiv.head()"
   ]
  },
  {
   "cell_type": "code",
   "execution_count": 19,
   "metadata": {},
   "outputs": [
    {
     "data": {
      "text/plain": [
       "(91227, 5)"
      ]
     },
     "execution_count": 19,
     "metadata": {},
     "output_type": "execute_result"
    }
   ],
   "source": [
    "users.shape"
   ]
  },
  {
   "cell_type": "code",
   "execution_count": 20,
   "metadata": {},
   "outputs": [
    {
     "data": {
      "text/plain": [
       "53403"
      ]
     },
     "execution_count": 20,
     "metadata": {},
     "output_type": "execute_result"
    }
   ],
   "source": [
    "users.user_id.max()"
   ]
  },
  {
   "cell_type": "code",
   "execution_count": 21,
   "metadata": {},
   "outputs": [
    {
     "data": {
      "text/plain": [
       "10000"
      ]
     },
     "execution_count": 21,
     "metadata": {},
     "output_type": "execute_result"
    }
   ],
   "source": [
    "bookdiv.book_id.max()"
   ]
  },
  {
   "cell_type": "code",
   "execution_count": 23,
   "metadata": {},
   "outputs": [],
   "source": [
    "#Group by users\n",
    "\n",
    "usg = users.groupby('user_id')['is_div'].sum().reset_index()"
   ]
  },
  {
   "cell_type": "code",
   "execution_count": 24,
   "metadata": {},
   "outputs": [],
   "source": [
    "#Assign user id from 1 to number of users in grouped dataframe\n",
    "\n",
    "usg['uid'] = usg['user_id'].rank()"
   ]
  },
  {
   "cell_type": "code",
   "execution_count": 25,
   "metadata": {},
   "outputs": [
    {
     "data": {
      "text/html": [
       "<div>\n",
       "<style scoped>\n",
       "    .dataframe tbody tr th:only-of-type {\n",
       "        vertical-align: middle;\n",
       "    }\n",
       "\n",
       "    .dataframe tbody tr th {\n",
       "        vertical-align: top;\n",
       "    }\n",
       "\n",
       "    .dataframe thead th {\n",
       "        text-align: right;\n",
       "    }\n",
       "</style>\n",
       "<table border=\"1\" class=\"dataframe\">\n",
       "  <thead>\n",
       "    <tr style=\"text-align: right;\">\n",
       "      <th></th>\n",
       "      <th>user_id</th>\n",
       "      <th>is_div</th>\n",
       "      <th>uid</th>\n",
       "    </tr>\n",
       "  </thead>\n",
       "  <tbody>\n",
       "    <tr>\n",
       "      <td>0</td>\n",
       "      <td>35</td>\n",
       "      <td>41</td>\n",
       "      <td>1.0</td>\n",
       "    </tr>\n",
       "    <tr>\n",
       "      <td>1</td>\n",
       "      <td>49</td>\n",
       "      <td>7</td>\n",
       "      <td>2.0</td>\n",
       "    </tr>\n",
       "    <tr>\n",
       "      <td>2</td>\n",
       "      <td>82</td>\n",
       "      <td>7</td>\n",
       "      <td>3.0</td>\n",
       "    </tr>\n",
       "    <tr>\n",
       "      <td>3</td>\n",
       "      <td>107</td>\n",
       "      <td>8</td>\n",
       "      <td>4.0</td>\n",
       "    </tr>\n",
       "    <tr>\n",
       "      <td>4</td>\n",
       "      <td>109</td>\n",
       "      <td>9</td>\n",
       "      <td>5.0</td>\n",
       "    </tr>\n",
       "  </tbody>\n",
       "</table>\n",
       "</div>"
      ],
      "text/plain": [
       "   user_id  is_div  uid\n",
       "0       35      41  1.0\n",
       "1       49       7  2.0\n",
       "2       82       7  3.0\n",
       "3      107       8  4.0\n",
       "4      109       9  5.0"
      ]
     },
     "execution_count": 25,
     "metadata": {},
     "output_type": "execute_result"
    }
   ],
   "source": [
    "usg.head()"
   ]
  },
  {
   "cell_type": "code",
   "execution_count": 26,
   "metadata": {},
   "outputs": [],
   "source": [
    "#create a dictionary for mapping user id\n",
    "\n",
    "udict = pd.Series(usg.uid.values,index=usg.user_id).to_dict()"
   ]
  },
  {
   "cell_type": "code",
   "execution_count": 27,
   "metadata": {},
   "outputs": [],
   "source": [
    "#add uid to the original users dataframe\n",
    "users['uid'] = users['user_id'].map(udict)"
   ]
  },
  {
   "cell_type": "code",
   "execution_count": 28,
   "metadata": {},
   "outputs": [
    {
     "data": {
      "text/html": [
       "<div>\n",
       "<style scoped>\n",
       "    .dataframe tbody tr th:only-of-type {\n",
       "        vertical-align: middle;\n",
       "    }\n",
       "\n",
       "    .dataframe tbody tr th {\n",
       "        vertical-align: top;\n",
       "    }\n",
       "\n",
       "    .dataframe thead th {\n",
       "        text-align: right;\n",
       "    }\n",
       "</style>\n",
       "<table border=\"1\" class=\"dataframe\">\n",
       "  <thead>\n",
       "    <tr style=\"text-align: right;\">\n",
       "      <th></th>\n",
       "      <th>book_id</th>\n",
       "      <th>user_id</th>\n",
       "      <th>rating</th>\n",
       "      <th>goodreads_book_id</th>\n",
       "      <th>is_div</th>\n",
       "      <th>uid</th>\n",
       "    </tr>\n",
       "  </thead>\n",
       "  <tbody>\n",
       "    <tr>\n",
       "      <td>0</td>\n",
       "      <td>1</td>\n",
       "      <td>3662</td>\n",
       "      <td>4</td>\n",
       "      <td>2767052</td>\n",
       "      <td>0</td>\n",
       "      <td>156.0</td>\n",
       "    </tr>\n",
       "    <tr>\n",
       "      <td>1</td>\n",
       "      <td>1</td>\n",
       "      <td>5461</td>\n",
       "      <td>3</td>\n",
       "      <td>2767052</td>\n",
       "      <td>0</td>\n",
       "      <td>210.0</td>\n",
       "    </tr>\n",
       "    <tr>\n",
       "      <td>2</td>\n",
       "      <td>1</td>\n",
       "      <td>11927</td>\n",
       "      <td>4</td>\n",
       "      <td>2767052</td>\n",
       "      <td>0</td>\n",
       "      <td>400.0</td>\n",
       "    </tr>\n",
       "    <tr>\n",
       "      <td>3</td>\n",
       "      <td>1</td>\n",
       "      <td>24845</td>\n",
       "      <td>5</td>\n",
       "      <td>2767052</td>\n",
       "      <td>0</td>\n",
       "      <td>789.0</td>\n",
       "    </tr>\n",
       "    <tr>\n",
       "      <td>4</td>\n",
       "      <td>1</td>\n",
       "      <td>15494</td>\n",
       "      <td>5</td>\n",
       "      <td>2767052</td>\n",
       "      <td>0</td>\n",
       "      <td>517.0</td>\n",
       "    </tr>\n",
       "  </tbody>\n",
       "</table>\n",
       "</div>"
      ],
      "text/plain": [
       "   book_id  user_id  rating  goodreads_book_id  is_div    uid\n",
       "0        1     3662       4            2767052       0  156.0\n",
       "1        1     5461       3            2767052       0  210.0\n",
       "2        1    11927       4            2767052       0  400.0\n",
       "3        1    24845       5            2767052       0  789.0\n",
       "4        1    15494       5            2767052       0  517.0"
      ]
     },
     "execution_count": 28,
     "metadata": {},
     "output_type": "execute_result"
    }
   ],
   "source": [
    "users.head()"
   ]
  },
  {
   "cell_type": "code",
   "execution_count": 29,
   "metadata": {},
   "outputs": [],
   "source": [
    "#Group by book id and create new book id that goes from 1 to number of books\n",
    "\n",
    "bsg = users.groupby('book_id')['is_div'].sum().reset_index()\n",
    "bsg['bid'] = bsg['book_id'].rank()"
   ]
  },
  {
   "cell_type": "code",
   "execution_count": 30,
   "metadata": {},
   "outputs": [
    {
     "data": {
      "text/plain": [
       "9501.0"
      ]
     },
     "execution_count": 30,
     "metadata": {},
     "output_type": "execute_result"
    }
   ],
   "source": [
    "bsg.bid.max()"
   ]
  },
  {
   "cell_type": "code",
   "execution_count": 31,
   "metadata": {},
   "outputs": [],
   "source": [
    "#Create dictionarty for mapping book id\n",
    "\n",
    "bdict = pd.Series(bsg.bid.values,index=bsg.book_id).to_dict()\n",
    "\n",
    "#Map old book id to new book id that only goes from 1 to number of books\n",
    "\n",
    "users['bid'] = users['book_id'].map(bdict)"
   ]
  },
  {
   "cell_type": "code",
   "execution_count": 32,
   "metadata": {},
   "outputs": [],
   "source": [
    "#reset user and book id to start at 0 instead of 1\n",
    "\n",
    "users['uid'] = users['uid']-1\n",
    "users['bid'] = users['bid'] -1"
   ]
  },
  {
   "cell_type": "code",
   "execution_count": 33,
   "metadata": {},
   "outputs": [
    {
     "data": {
      "text/plain": [
       "9500.0"
      ]
     },
     "execution_count": 33,
     "metadata": {},
     "output_type": "execute_result"
    }
   ],
   "source": [
    "users.bid.max()"
   ]
  },
  {
   "cell_type": "code",
   "execution_count": 34,
   "metadata": {},
   "outputs": [
    {
     "data": {
      "text/plain": [
       "9501"
      ]
     },
     "execution_count": 34,
     "metadata": {},
     "output_type": "execute_result"
    }
   ],
   "source": [
    "users.bid.nunique()"
   ]
  },
  {
   "cell_type": "code",
   "execution_count": 35,
   "metadata": {},
   "outputs": [],
   "source": [
    "matrix_r = np.zeros((1517,9501))"
   ]
  },
  {
   "cell_type": "code",
   "execution_count": 36,
   "metadata": {},
   "outputs": [],
   "source": [
    "#This is where I'm actually running the function\n",
    "rat_m = get_matrix_user_v_book(users)"
   ]
  },
  {
   "cell_type": "code",
   "execution_count": 37,
   "metadata": {},
   "outputs": [
    {
     "data": {
      "text/plain": [
       "(1517, 9501)"
      ]
     },
     "execution_count": 37,
     "metadata": {},
     "output_type": "execute_result"
    }
   ],
   "source": [
    "rat_m.shape"
   ]
  },
  {
   "cell_type": "code",
   "execution_count": 38,
   "metadata": {},
   "outputs": [
    {
     "data": {
      "text/plain": [
       "(9501, 1517)"
      ]
     },
     "execution_count": 38,
     "metadata": {},
     "output_type": "execute_result"
    }
   ],
   "source": [
    "rat_m.T.shape"
   ]
  },
  {
   "cell_type": "code",
   "execution_count": 39,
   "metadata": {},
   "outputs": [],
   "source": [
    "pd.DataFrame(rat_m).to_csv('ratings_sparse_uvb.csv',index=None)"
   ]
  },
  {
   "cell_type": "code",
   "execution_count": 372,
   "metadata": {},
   "outputs": [],
   "source": [
    "imp = SimpleImputer(missing_values=0, strategy='mean')"
   ]
  },
  {
   "cell_type": "code",
   "execution_count": 373,
   "metadata": {},
   "outputs": [],
   "source": [
    "rat = imp.fit_transform(rat_m)"
   ]
  },
  {
   "cell_type": "code",
   "execution_count": 375,
   "metadata": {},
   "outputs": [
    {
     "data": {
      "text/plain": [
       "(9501, 9501)"
      ]
     },
     "execution_count": 375,
     "metadata": {},
     "output_type": "execute_result"
    }
   ],
   "source": [
    "sim_m.shape"
   ]
  },
  {
   "cell_type": "code",
   "execution_count": 376,
   "metadata": {},
   "outputs": [
    {
     "data": {
      "text/plain": [
       "array([[1.        , 0.99932174, 0.99828781, 0.99960977, 0.99879856,\n",
       "        0.99930353, 0.9991977 , 0.99869837, 0.99951553, 0.99945733],\n",
       "       [0.99932174, 1.        , 0.99841744, 0.99920584, 0.99885683,\n",
       "        0.99894937, 0.99907061, 0.99853646, 0.99931385, 0.99950687],\n",
       "       [0.99828781, 0.99841744, 1.        , 0.99820475, 0.99738433,\n",
       "        0.99811095, 0.99765746, 0.99703028, 0.99822792, 0.99810244],\n",
       "       [0.99960977, 0.99920584, 0.99820475, 1.        , 0.99906972,\n",
       "        0.99927676, 0.99916332, 0.99854573, 0.99933426, 0.99936634],\n",
       "       [0.99879856, 0.99885683, 0.99738433, 0.99906972, 1.        ,\n",
       "        0.99876864, 0.99919781, 0.99919058, 0.99903537, 0.99904424],\n",
       "       [0.99930353, 0.99894937, 0.99811095, 0.99927676, 0.99876864,\n",
       "        1.        , 0.99886328, 0.99854598, 0.99918958, 0.99918922],\n",
       "       [0.9991977 , 0.99907061, 0.99765746, 0.99916332, 0.99919781,\n",
       "        0.99886328, 1.        , 0.99892478, 0.99955034, 0.99920442],\n",
       "       [0.99869837, 0.99853646, 0.99703028, 0.99854573, 0.99919058,\n",
       "        0.99854598, 0.99892478, 1.        , 0.99891053, 0.99888362],\n",
       "       [0.99951553, 0.99931385, 0.99822792, 0.99933426, 0.99903537,\n",
       "        0.99918958, 0.99955034, 0.99891053, 1.        , 0.999432  ],\n",
       "       [0.99945733, 0.99950687, 0.99810244, 0.99936634, 0.99904424,\n",
       "        0.99918922, 0.99920442, 0.99888362, 0.999432  , 1.        ]])"
      ]
     },
     "execution_count": 376,
     "metadata": {},
     "output_type": "execute_result"
    }
   ],
   "source": [
    "sim_m[:10,:10]"
   ]
  },
  {
   "cell_type": "code",
   "execution_count": 147,
   "metadata": {},
   "outputs": [],
   "source": [
    "divm = users.groupby('bid')['is_div'].max().values"
   ]
  },
  {
   "cell_type": "code",
   "execution_count": 148,
   "metadata": {},
   "outputs": [
    {
     "data": {
      "text/plain": [
       "1439"
      ]
     },
     "execution_count": 148,
     "metadata": {},
     "output_type": "execute_result"
    }
   ],
   "source": [
    "divm.sum()"
   ]
  },
  {
   "cell_type": "code",
   "execution_count": 181,
   "metadata": {},
   "outputs": [],
   "source": [
    "pred = rat.dot(sim_m) / np.array([np.abs(sim_m).sum(axis=1)])"
   ]
  },
  {
   "cell_type": "code",
   "execution_count": 172,
   "metadata": {},
   "outputs": [
    {
     "data": {
      "text/plain": [
       "0.9936833488783091"
      ]
     },
     "execution_count": 172,
     "metadata": {},
     "output_type": "execute_result"
    }
   ],
   "source": [
    "np.isnan(rat_m).sum()/np.prod(rat_m.shape)"
   ]
  },
  {
   "cell_type": "code",
   "execution_count": 399,
   "metadata": {},
   "outputs": [],
   "source": [
    "for i in range(rat_m.shape[1]):\n",
    "    number = users.loc[users.bid==i].b_average_rating.iloc[0]\n",
    "    col = rat_m[:,i]\n",
    "    col[col==0] = number\n",
    "    rat_m[:,i] = col"
   ]
  },
  {
   "cell_type": "code",
   "execution_count": 401,
   "metadata": {},
   "outputs": [],
   "source": [
    "sim_m = cos(rat_m.T)"
   ]
  },
  {
   "cell_type": "code",
   "execution_count": 402,
   "metadata": {},
   "outputs": [
    {
     "data": {
      "text/plain": [
       "array([[1.        , 0.99934766, 0.99862345, 0.99959309, 0.99882395,\n",
       "        0.99934401, 0.99921713, 0.99877414, 0.99951518, 0.99945162],\n",
       "       [0.99934766, 1.        , 0.99862941, 0.99917017, 0.99889518,\n",
       "        0.99903714, 0.99912423, 0.99870768, 0.99935204, 0.99952224],\n",
       "       [0.99862345, 0.99862941, 1.        , 0.99839338, 0.99772682,\n",
       "        0.99832799, 0.9981645 , 0.99754943, 0.99848375, 0.99834305],\n",
       "       [0.99959309, 0.99917017, 0.99839338, 1.        , 0.99903525,\n",
       "        0.99927681, 0.99914804, 0.99854559, 0.99931915, 0.99933458],\n",
       "       [0.99882395, 0.99889518, 0.99772682, 0.99903525, 1.        ,\n",
       "        0.99875689, 0.99925834, 0.99928779, 0.99907136, 0.99906319],\n",
       "       [0.99934401, 0.99903714, 0.99832799, 0.99927681, 0.99875689,\n",
       "        1.        , 0.9989317 , 0.99859062, 0.99922439, 0.99920235],\n",
       "       [0.99921713, 0.99912423, 0.9981645 , 0.99914804, 0.99925834,\n",
       "        0.9989317 , 1.        , 0.99912352, 0.99956421, 0.99923875],\n",
       "       [0.99877414, 0.99870768, 0.99754943, 0.99854559, 0.99928779,\n",
       "        0.99859062, 0.99912352, 1.        , 0.99897258, 0.99895203],\n",
       "       [0.99951518, 0.99935204, 0.99848375, 0.99931915, 0.99907136,\n",
       "        0.99922439, 0.99956421, 0.99897258, 1.        , 0.99945105],\n",
       "       [0.99945162, 0.99952224, 0.99834305, 0.99933458, 0.99906319,\n",
       "        0.99920235, 0.99923875, 0.99895203, 0.99945105, 1.        ]])"
      ]
     },
     "execution_count": 402,
     "metadata": {},
     "output_type": "execute_result"
    }
   ],
   "source": [
    "sim_m[:10,:10]"
   ]
  },
  {
   "cell_type": "code",
   "execution_count": 403,
   "metadata": {},
   "outputs": [
    {
     "data": {
      "text/plain": [
       "array([[4.30434783, 4.25      , 2.95652174, 4.4       , 3.82608696,\n",
       "        4.        , 3.91666667, 3.57142857, 3.75      , 4.28571429],\n",
       "       [4.30434783, 4.25      , 2.95652174, 4.4       , 3.82608696,\n",
       "        4.        , 3.91666667, 3.57142857, 3.75      , 4.28571429],\n",
       "       [4.30434783, 4.25      , 2.95652174, 4.4       , 3.82608696,\n",
       "        5.        , 3.91666667, 3.57142857, 3.75      , 4.28571429],\n",
       "       [4.30434783, 4.25      , 2.95652174, 4.4       , 3.82608696,\n",
       "        4.        , 3.91666667, 3.57142857, 3.75      , 4.28571429],\n",
       "       [4.30434783, 4.25      , 2.95652174, 4.4       , 3.82608696,\n",
       "        4.        , 3.91666667, 3.57142857, 3.75      , 4.28571429],\n",
       "       [4.30434783, 4.25      , 2.95652174, 4.4       , 3.82608696,\n",
       "        4.        , 3.91666667, 3.57142857, 3.75      , 4.28571429],\n",
       "       [4.30434783, 4.25      , 2.95652174, 4.4       , 3.82608696,\n",
       "        4.        , 3.91666667, 3.57142857, 3.75      , 4.28571429],\n",
       "       [4.30434783, 4.25      , 2.95652174, 4.4       , 3.82608696,\n",
       "        4.        , 3.91666667, 3.57142857, 3.75      , 4.28571429],\n",
       "       [4.30434783, 4.25      , 2.95652174, 4.4       , 3.82608696,\n",
       "        4.        , 3.91666667, 3.57142857, 3.75      , 4.28571429],\n",
       "       [4.30434783, 4.25      , 2.95652174, 4.4       , 3.82608696,\n",
       "        4.        , 3.91666667, 3.57142857, 3.75      , 4.28571429]])"
      ]
     },
     "execution_count": 403,
     "metadata": {},
     "output_type": "execute_result"
    }
   ],
   "source": [
    "rat[:10,:10]"
   ]
  },
  {
   "cell_type": "code",
   "execution_count": 179,
   "metadata": {},
   "outputs": [
    {
     "data": {
      "text/plain": [
       "(1517, 9501)"
      ]
     },
     "execution_count": 179,
     "metadata": {},
     "output_type": "execute_result"
    }
   ],
   "source": [
    "rat.shape"
   ]
  },
  {
   "cell_type": "code",
   "execution_count": 188,
   "metadata": {},
   "outputs": [],
   "source": [
    "temp = np.multiply(temp,divm)"
   ]
  },
  {
   "cell_type": "code",
   "execution_count": 189,
   "metadata": {},
   "outputs": [
    {
     "data": {
      "text/plain": [
       "0.0"
      ]
     },
     "execution_count": 189,
     "metadata": {},
     "output_type": "execute_result"
    }
   ],
   "source": [
    "temp.min()"
   ]
  },
  {
   "cell_type": "code",
   "execution_count": 190,
   "metadata": {},
   "outputs": [
    {
     "data": {
      "text/plain": [
       "4.264173942499162"
      ]
     },
     "execution_count": 190,
     "metadata": {},
     "output_type": "execute_result"
    }
   ],
   "source": [
    "temp.max()"
   ]
  },
  {
   "cell_type": "code",
   "execution_count": 191,
   "metadata": {},
   "outputs": [],
   "source": [
    "rec = temp.argsort()"
   ]
  },
  {
   "cell_type": "code",
   "execution_count": 193,
   "metadata": {},
   "outputs": [
    {
     "data": {
      "text/plain": [
       "array([6053, 6052, 6051, 6050], dtype=int64)"
      ]
     },
     "execution_count": 193,
     "metadata": {},
     "output_type": "execute_result"
    }
   ],
   "source": [
    "rec[1:num]"
   ]
  },
  {
   "cell_type": "code",
   "execution_count": 230,
   "metadata": {},
   "outputs": [],
   "source": [
    "def get_book_from_title(user_df,title=''):\n",
    "    \n",
    "    gid = tid_dict[title]\n",
    "    \n",
    "    return user_df.loc[users['goodreads_book_id']==gid].bid.iloc[0]"
   ]
  },
  {
   "cell_type": "code",
   "execution_count": 222,
   "metadata": {},
   "outputs": [
    {
     "data": {
      "text/html": [
       "<div>\n",
       "<style scoped>\n",
       "    .dataframe tbody tr th:only-of-type {\n",
       "        vertical-align: middle;\n",
       "    }\n",
       "\n",
       "    .dataframe tbody tr th {\n",
       "        vertical-align: top;\n",
       "    }\n",
       "\n",
       "    .dataframe thead th {\n",
       "        text-align: right;\n",
       "    }\n",
       "</style>\n",
       "<table border=\"1\" class=\"dataframe\">\n",
       "  <thead>\n",
       "    <tr style=\"text-align: right;\">\n",
       "      <th></th>\n",
       "      <th>id</th>\n",
       "      <th>book_id</th>\n",
       "      <th>best_book_id</th>\n",
       "      <th>work_id</th>\n",
       "      <th>books_count</th>\n",
       "      <th>isbn</th>\n",
       "      <th>isbn13</th>\n",
       "      <th>authors</th>\n",
       "      <th>original_publication_year</th>\n",
       "      <th>original_title</th>\n",
       "      <th>...</th>\n",
       "      <th>work_text_reviews_count</th>\n",
       "      <th>ratings_1</th>\n",
       "      <th>ratings_2</th>\n",
       "      <th>ratings_3</th>\n",
       "      <th>ratings_4</th>\n",
       "      <th>ratings_5</th>\n",
       "      <th>goodreads_book_id</th>\n",
       "      <th>is_div</th>\n",
       "      <th>ratings_positive</th>\n",
       "      <th>ratings_negative</th>\n",
       "    </tr>\n",
       "  </thead>\n",
       "  <tbody>\n",
       "    <tr>\n",
       "      <th>0</th>\n",
       "      <td>1</td>\n",
       "      <td>2767052</td>\n",
       "      <td>2767052</td>\n",
       "      <td>2792775</td>\n",
       "      <td>272</td>\n",
       "      <td>439023483</td>\n",
       "      <td>9.780439e+12</td>\n",
       "      <td>Suzanne Collins</td>\n",
       "      <td>2008.0</td>\n",
       "      <td>The Hunger Games</td>\n",
       "      <td>...</td>\n",
       "      <td>155254</td>\n",
       "      <td>66715</td>\n",
       "      <td>127936</td>\n",
       "      <td>560092</td>\n",
       "      <td>1481305</td>\n",
       "      <td>2706317</td>\n",
       "      <td>2767052</td>\n",
       "      <td>0</td>\n",
       "      <td>4747714</td>\n",
       "      <td>194651</td>\n",
       "    </tr>\n",
       "    <tr>\n",
       "      <th>1</th>\n",
       "      <td>2</td>\n",
       "      <td>3</td>\n",
       "      <td>3</td>\n",
       "      <td>4640799</td>\n",
       "      <td>491</td>\n",
       "      <td>439554934</td>\n",
       "      <td>9.780440e+12</td>\n",
       "      <td>J.K. Rowling, Mary GrandPré</td>\n",
       "      <td>1997.0</td>\n",
       "      <td>Harry Potter and the Philosopher's Stone</td>\n",
       "      <td>...</td>\n",
       "      <td>75867</td>\n",
       "      <td>75504</td>\n",
       "      <td>101676</td>\n",
       "      <td>455024</td>\n",
       "      <td>1156318</td>\n",
       "      <td>3011543</td>\n",
       "      <td>3</td>\n",
       "      <td>0</td>\n",
       "      <td>4622885</td>\n",
       "      <td>177180</td>\n",
       "    </tr>\n",
       "    <tr>\n",
       "      <th>2</th>\n",
       "      <td>3</td>\n",
       "      <td>41865</td>\n",
       "      <td>41865</td>\n",
       "      <td>3212258</td>\n",
       "      <td>226</td>\n",
       "      <td>316015849</td>\n",
       "      <td>9.780316e+12</td>\n",
       "      <td>Stephenie Meyer</td>\n",
       "      <td>2005.0</td>\n",
       "      <td>Twilight</td>\n",
       "      <td>...</td>\n",
       "      <td>95009</td>\n",
       "      <td>456191</td>\n",
       "      <td>436802</td>\n",
       "      <td>793319</td>\n",
       "      <td>875073</td>\n",
       "      <td>1355439</td>\n",
       "      <td>41865</td>\n",
       "      <td>0</td>\n",
       "      <td>3023831</td>\n",
       "      <td>892993</td>\n",
       "    </tr>\n",
       "    <tr>\n",
       "      <th>3</th>\n",
       "      <td>4</td>\n",
       "      <td>2657</td>\n",
       "      <td>2657</td>\n",
       "      <td>3275794</td>\n",
       "      <td>487</td>\n",
       "      <td>61120081</td>\n",
       "      <td>9.780061e+12</td>\n",
       "      <td>Harper Lee</td>\n",
       "      <td>1960.0</td>\n",
       "      <td>To Kill a Mockingbird</td>\n",
       "      <td>...</td>\n",
       "      <td>72586</td>\n",
       "      <td>60427</td>\n",
       "      <td>117415</td>\n",
       "      <td>446835</td>\n",
       "      <td>1001952</td>\n",
       "      <td>1714267</td>\n",
       "      <td>2657</td>\n",
       "      <td>0</td>\n",
       "      <td>3163054</td>\n",
       "      <td>177842</td>\n",
       "    </tr>\n",
       "    <tr>\n",
       "      <th>4</th>\n",
       "      <td>5</td>\n",
       "      <td>4671</td>\n",
       "      <td>4671</td>\n",
       "      <td>245494</td>\n",
       "      <td>1356</td>\n",
       "      <td>743273567</td>\n",
       "      <td>9.780743e+12</td>\n",
       "      <td>F. Scott Fitzgerald</td>\n",
       "      <td>1925.0</td>\n",
       "      <td>The Great Gatsby</td>\n",
       "      <td>...</td>\n",
       "      <td>51992</td>\n",
       "      <td>86236</td>\n",
       "      <td>197621</td>\n",
       "      <td>606158</td>\n",
       "      <td>936012</td>\n",
       "      <td>947718</td>\n",
       "      <td>4671</td>\n",
       "      <td>0</td>\n",
       "      <td>2489888</td>\n",
       "      <td>283857</td>\n",
       "    </tr>\n",
       "  </tbody>\n",
       "</table>\n",
       "<p>5 rows × 25 columns</p>\n",
       "</div>"
      ],
      "text/plain": [
       "   id  book_id  best_book_id  work_id  books_count       isbn        isbn13  \\\n",
       "0   1  2767052       2767052  2792775          272  439023483  9.780439e+12   \n",
       "1   2        3             3  4640799          491  439554934  9.780440e+12   \n",
       "2   3    41865         41865  3212258          226  316015849  9.780316e+12   \n",
       "3   4     2657          2657  3275794          487   61120081  9.780061e+12   \n",
       "4   5     4671          4671   245494         1356  743273567  9.780743e+12   \n",
       "\n",
       "                       authors  original_publication_year  \\\n",
       "0              Suzanne Collins                     2008.0   \n",
       "1  J.K. Rowling, Mary GrandPré                     1997.0   \n",
       "2              Stephenie Meyer                     2005.0   \n",
       "3                   Harper Lee                     1960.0   \n",
       "4          F. Scott Fitzgerald                     1925.0   \n",
       "\n",
       "                             original_title  ... work_text_reviews_count  \\\n",
       "0                          The Hunger Games  ...                  155254   \n",
       "1  Harry Potter and the Philosopher's Stone  ...                   75867   \n",
       "2                                  Twilight  ...                   95009   \n",
       "3                     To Kill a Mockingbird  ...                   72586   \n",
       "4                          The Great Gatsby  ...                   51992   \n",
       "\n",
       "  ratings_1  ratings_2  ratings_3  ratings_4  ratings_5  goodreads_book_id  \\\n",
       "0     66715     127936     560092    1481305    2706317            2767052   \n",
       "1     75504     101676     455024    1156318    3011543                  3   \n",
       "2    456191     436802     793319     875073    1355439              41865   \n",
       "3     60427     117415     446835    1001952    1714267               2657   \n",
       "4     86236     197621     606158     936012     947718               4671   \n",
       "\n",
       "   is_div  ratings_positive  ratings_negative  \n",
       "0       0           4747714            194651  \n",
       "1       0           4622885            177180  \n",
       "2       0           3023831            892993  \n",
       "3       0           3163054            177842  \n",
       "4       0           2489888            283857  \n",
       "\n",
       "[5 rows x 25 columns]"
      ]
     },
     "execution_count": 222,
     "metadata": {},
     "output_type": "execute_result"
    }
   ],
   "source": [
    "books.head()"
   ]
  },
  {
   "cell_type": "code",
   "execution_count": 239,
   "metadata": {},
   "outputs": [],
   "source": [
    "tid_dict = pd.Series(books.book_id.values,index=books.original_title).drop_duplicates().to_dict()\n",
    "\n",
    "id_to_title = pd.Series(books.original_title.values,index=books.book_id).drop_duplicates().to_dict()\n"
   ]
  },
  {
   "cell_type": "code",
   "execution_count": 228,
   "metadata": {},
   "outputs": [
    {
     "data": {
      "text/plain": [
       "3"
      ]
     },
     "execution_count": 228,
     "metadata": {},
     "output_type": "execute_result"
    }
   ],
   "source": [
    "tid_dict[\"Harry Potter and the Philosopher's Stone\"]"
   ]
  },
  {
   "cell_type": "code",
   "execution_count": 231,
   "metadata": {},
   "outputs": [
    {
     "data": {
      "text/plain": [
       "2767052"
      ]
     },
     "execution_count": 231,
     "metadata": {},
     "output_type": "execute_result"
    }
   ],
   "source": [
    "tid_dict['The Hunger Games']"
   ]
  },
  {
   "cell_type": "code",
   "execution_count": 334,
   "metadata": {},
   "outputs": [],
   "source": [
    "bnum = get_book_from_title(users,title='The Hunger Games')"
   ]
  },
  {
   "cell_type": "code",
   "execution_count": 335,
   "metadata": {},
   "outputs": [],
   "source": [
    "rec = np.multiply(sim_m[int(bnum),:],divm.loc[bnum]).argsort()[::-1]"
   ]
  },
  {
   "cell_type": "code",
   "execution_count": 336,
   "metadata": {},
   "outputs": [
    {
     "data": {
      "text/plain": [
       "array([3171, 3169, 3168, 3167, 3166], dtype=int64)"
      ]
     },
     "execution_count": 336,
     "metadata": {},
     "output_type": "execute_result"
    }
   ],
   "source": [
    "rec[1:6]"
   ]
  },
  {
   "cell_type": "code",
   "execution_count": 301,
   "metadata": {},
   "outputs": [
    {
     "data": {
      "text/plain": [
       "'The Wishsong of Shannara '"
      ]
     },
     "execution_count": 301,
     "metadata": {},
     "output_type": "execute_result"
    }
   ],
   "source": [
    "id_to_title[users.loc[users.bid==3168]['goodreads_book_id'].iloc[0]]"
   ]
  },
  {
   "cell_type": "code",
   "execution_count": 323,
   "metadata": {},
   "outputs": [],
   "source": [
    "rec = np.multiply(sim_m[int(9490),:],divm.loc[bnum]).argsort()[::-1]"
   ]
  },
  {
   "cell_type": "code",
   "execution_count": 324,
   "metadata": {},
   "outputs": [
    {
     "data": {
      "text/plain": [
       "'Purple Hibiscus'"
      ]
     },
     "execution_count": 324,
     "metadata": {},
     "output_type": "execute_result"
    }
   ],
   "source": [
    "id_to_title[users.loc[users.bid==rec[18]]['goodreads_book_id'].iloc[0]]"
   ]
  },
  {
   "cell_type": "code",
   "execution_count": 350,
   "metadata": {},
   "outputs": [
    {
     "data": {
      "text/plain": [
       "33770"
      ]
     },
     "execution_count": 350,
     "metadata": {},
     "output_type": "execute_result"
    }
   ],
   "source": [
    "users.loc[users.bid==rec[3000][4]]['goodreads_book_id'].iloc[0]"
   ]
  },
  {
   "cell_type": "code",
   "execution_count": 367,
   "metadata": {},
   "outputs": [
    {
     "data": {
      "text/plain": [
       "3010    Bookends\n",
       "Name: original_title, dtype: object"
      ]
     },
     "execution_count": 367,
     "metadata": {},
     "output_type": "execute_result"
    }
   ],
   "source": [
    "books.loc[books.book_id==users.loc[users.bid==3000]['goodreads_book_id'].iloc[0]]['original_title']"
   ]
  },
  {
   "cell_type": "code",
   "execution_count": 328,
   "metadata": {},
   "outputs": [
    {
     "data": {
      "text/plain": [
       "3172"
      ]
     },
     "execution_count": 328,
     "metadata": {},
     "output_type": "execute_result"
    }
   ],
   "source": [
    "rec[18]"
   ]
  },
  {
   "cell_type": "code",
   "execution_count": 329,
   "metadata": {},
   "outputs": [
    {
     "data": {
      "text/plain": [
       "20"
      ]
     },
     "execution_count": 329,
     "metadata": {},
     "output_type": "execute_result"
    }
   ],
   "source": [
    "users.loc[users.bid==3172].uid.count()"
   ]
  },
  {
   "cell_type": "code",
   "execution_count": 381,
   "metadata": {},
   "outputs": [],
   "source": [
    "bavg_dict = pd.Series(books.average_rating.values,index=books.book_id).to_dict()"
   ]
  },
  {
   "cell_type": "code",
   "execution_count": 382,
   "metadata": {},
   "outputs": [],
   "source": [
    "users['b_average_rating'] = users['goodreads_book_id'].map(bavg_dict)"
   ]
  },
  {
   "cell_type": "code",
   "execution_count": 383,
   "metadata": {},
   "outputs": [
    {
     "data": {
      "text/html": [
       "<div>\n",
       "<style scoped>\n",
       "    .dataframe tbody tr th:only-of-type {\n",
       "        vertical-align: middle;\n",
       "    }\n",
       "\n",
       "    .dataframe tbody tr th {\n",
       "        vertical-align: top;\n",
       "    }\n",
       "\n",
       "    .dataframe thead th {\n",
       "        text-align: right;\n",
       "    }\n",
       "</style>\n",
       "<table border=\"1\" class=\"dataframe\">\n",
       "  <thead>\n",
       "    <tr style=\"text-align: right;\">\n",
       "      <th></th>\n",
       "      <th>book_id</th>\n",
       "      <th>user_id</th>\n",
       "      <th>rating</th>\n",
       "      <th>goodreads_book_id</th>\n",
       "      <th>is_div</th>\n",
       "      <th>uid</th>\n",
       "      <th>bid</th>\n",
       "      <th>b_average_rating</th>\n",
       "    </tr>\n",
       "  </thead>\n",
       "  <tbody>\n",
       "    <tr>\n",
       "      <th>0</th>\n",
       "      <td>1</td>\n",
       "      <td>3662</td>\n",
       "      <td>4</td>\n",
       "      <td>2767052</td>\n",
       "      <td>0</td>\n",
       "      <td>152.0</td>\n",
       "      <td>0.0</td>\n",
       "      <td>4.34</td>\n",
       "    </tr>\n",
       "    <tr>\n",
       "      <th>1</th>\n",
       "      <td>1</td>\n",
       "      <td>5461</td>\n",
       "      <td>3</td>\n",
       "      <td>2767052</td>\n",
       "      <td>0</td>\n",
       "      <td>206.0</td>\n",
       "      <td>0.0</td>\n",
       "      <td>4.34</td>\n",
       "    </tr>\n",
       "    <tr>\n",
       "      <th>2</th>\n",
       "      <td>1</td>\n",
       "      <td>11927</td>\n",
       "      <td>4</td>\n",
       "      <td>2767052</td>\n",
       "      <td>0</td>\n",
       "      <td>396.0</td>\n",
       "      <td>0.0</td>\n",
       "      <td>4.34</td>\n",
       "    </tr>\n",
       "    <tr>\n",
       "      <th>3</th>\n",
       "      <td>1</td>\n",
       "      <td>24845</td>\n",
       "      <td>5</td>\n",
       "      <td>2767052</td>\n",
       "      <td>0</td>\n",
       "      <td>785.0</td>\n",
       "      <td>0.0</td>\n",
       "      <td>4.34</td>\n",
       "    </tr>\n",
       "    <tr>\n",
       "      <th>4</th>\n",
       "      <td>1</td>\n",
       "      <td>15494</td>\n",
       "      <td>5</td>\n",
       "      <td>2767052</td>\n",
       "      <td>0</td>\n",
       "      <td>513.0</td>\n",
       "      <td>0.0</td>\n",
       "      <td>4.34</td>\n",
       "    </tr>\n",
       "  </tbody>\n",
       "</table>\n",
       "</div>"
      ],
      "text/plain": [
       "   book_id  user_id  rating  goodreads_book_id  is_div    uid  bid  \\\n",
       "0        1     3662       4            2767052       0  152.0  0.0   \n",
       "1        1     5461       3            2767052       0  206.0  0.0   \n",
       "2        1    11927       4            2767052       0  396.0  0.0   \n",
       "3        1    24845       5            2767052       0  785.0  0.0   \n",
       "4        1    15494       5            2767052       0  513.0  0.0   \n",
       "\n",
       "   b_average_rating  \n",
       "0              4.34  \n",
       "1              4.34  \n",
       "2              4.34  \n",
       "3              4.34  \n",
       "4              4.34  "
      ]
     },
     "execution_count": 383,
     "metadata": {},
     "output_type": "execute_result"
    }
   ],
   "source": [
    "users.head()"
   ]
  },
  {
   "cell_type": "code",
   "execution_count": 400,
   "metadata": {},
   "outputs": [
    {
     "data": {
      "text/plain": [
       "array([[4.34, 4.44, 3.57, 4.25, 3.89, 4.26, 4.25, 3.79, 3.85, 4.24],\n",
       "       [4.34, 4.44, 3.57, 4.25, 3.89, 4.26, 4.25, 3.79, 3.85, 4.24],\n",
       "       [4.34, 4.44, 3.57, 4.25, 3.89, 5.  , 4.25, 3.79, 3.85, 4.24],\n",
       "       [4.34, 4.44, 3.57, 4.25, 3.89, 4.26, 4.25, 3.79, 3.85, 4.24],\n",
       "       [4.34, 4.44, 3.57, 4.25, 3.89, 4.26, 4.25, 3.79, 3.85, 4.24],\n",
       "       [4.34, 4.44, 3.57, 4.25, 3.89, 4.26, 4.25, 3.79, 3.85, 4.24],\n",
       "       [4.34, 4.44, 3.57, 4.25, 3.89, 4.26, 4.25, 3.79, 3.85, 4.24],\n",
       "       [4.34, 4.44, 3.57, 4.25, 3.89, 4.26, 4.25, 3.79, 3.85, 4.24],\n",
       "       [4.34, 4.44, 3.57, 4.25, 3.89, 4.26, 4.25, 3.79, 3.85, 4.24],\n",
       "       [4.34, 4.44, 3.57, 4.25, 3.89, 4.26, 4.25, 3.79, 3.85, 4.24]])"
      ]
     },
     "execution_count": 400,
     "metadata": {},
     "output_type": "execute_result"
    }
   ],
   "source": [
    "rat_m[:10,:10]"
   ]
  },
  {
   "cell_type": "code",
   "execution_count": 412,
   "metadata": {},
   "outputs": [],
   "source": [
    "pd.DataFrame(rat_m).to_csv('ratings_matrix_imputed.csv')"
   ]
  },
  {
   "cell_type": "code",
   "execution_count": 413,
   "metadata": {},
   "outputs": [],
   "source": [
    "pd.DataFrame(sim_m).to_csv('similarity_matrix_1.csv')"
   ]
  },
  {
   "cell_type": "code",
   "execution_count": 417,
   "metadata": {},
   "outputs": [
    {
     "data": {
      "text/html": [
       "<div>\n",
       "<style scoped>\n",
       "    .dataframe tbody tr th:only-of-type {\n",
       "        vertical-align: middle;\n",
       "    }\n",
       "\n",
       "    .dataframe tbody tr th {\n",
       "        vertical-align: top;\n",
       "    }\n",
       "\n",
       "    .dataframe thead th {\n",
       "        text-align: right;\n",
       "    }\n",
       "</style>\n",
       "<table border=\"1\" class=\"dataframe\">\n",
       "  <thead>\n",
       "    <tr style=\"text-align: right;\">\n",
       "      <th></th>\n",
       "      <th>id</th>\n",
       "      <th>book_id</th>\n",
       "      <th>best_book_id</th>\n",
       "      <th>work_id</th>\n",
       "      <th>books_count</th>\n",
       "      <th>isbn</th>\n",
       "      <th>isbn13</th>\n",
       "      <th>authors</th>\n",
       "      <th>original_publication_year</th>\n",
       "      <th>original_title</th>\n",
       "      <th>...</th>\n",
       "      <th>work_text_reviews_count</th>\n",
       "      <th>ratings_1</th>\n",
       "      <th>ratings_2</th>\n",
       "      <th>ratings_3</th>\n",
       "      <th>ratings_4</th>\n",
       "      <th>ratings_5</th>\n",
       "      <th>goodreads_book_id</th>\n",
       "      <th>is_div</th>\n",
       "      <th>ratings_positive</th>\n",
       "      <th>ratings_negative</th>\n",
       "    </tr>\n",
       "  </thead>\n",
       "  <tbody>\n",
       "    <tr>\n",
       "      <th>0</th>\n",
       "      <td>1</td>\n",
       "      <td>2767052</td>\n",
       "      <td>2767052</td>\n",
       "      <td>2792775</td>\n",
       "      <td>272</td>\n",
       "      <td>439023483</td>\n",
       "      <td>9.780439e+12</td>\n",
       "      <td>Suzanne Collins</td>\n",
       "      <td>2008.0</td>\n",
       "      <td>The Hunger Games</td>\n",
       "      <td>...</td>\n",
       "      <td>155254</td>\n",
       "      <td>66715</td>\n",
       "      <td>127936</td>\n",
       "      <td>560092</td>\n",
       "      <td>1481305</td>\n",
       "      <td>2706317</td>\n",
       "      <td>2767052</td>\n",
       "      <td>0</td>\n",
       "      <td>4747714</td>\n",
       "      <td>194651</td>\n",
       "    </tr>\n",
       "    <tr>\n",
       "      <th>1</th>\n",
       "      <td>2</td>\n",
       "      <td>3</td>\n",
       "      <td>3</td>\n",
       "      <td>4640799</td>\n",
       "      <td>491</td>\n",
       "      <td>439554934</td>\n",
       "      <td>9.780440e+12</td>\n",
       "      <td>J.K. Rowling, Mary GrandPré</td>\n",
       "      <td>1997.0</td>\n",
       "      <td>Harry Potter and the Philosopher's Stone</td>\n",
       "      <td>...</td>\n",
       "      <td>75867</td>\n",
       "      <td>75504</td>\n",
       "      <td>101676</td>\n",
       "      <td>455024</td>\n",
       "      <td>1156318</td>\n",
       "      <td>3011543</td>\n",
       "      <td>3</td>\n",
       "      <td>0</td>\n",
       "      <td>4622885</td>\n",
       "      <td>177180</td>\n",
       "    </tr>\n",
       "    <tr>\n",
       "      <th>2</th>\n",
       "      <td>3</td>\n",
       "      <td>41865</td>\n",
       "      <td>41865</td>\n",
       "      <td>3212258</td>\n",
       "      <td>226</td>\n",
       "      <td>316015849</td>\n",
       "      <td>9.780316e+12</td>\n",
       "      <td>Stephenie Meyer</td>\n",
       "      <td>2005.0</td>\n",
       "      <td>Twilight</td>\n",
       "      <td>...</td>\n",
       "      <td>95009</td>\n",
       "      <td>456191</td>\n",
       "      <td>436802</td>\n",
       "      <td>793319</td>\n",
       "      <td>875073</td>\n",
       "      <td>1355439</td>\n",
       "      <td>41865</td>\n",
       "      <td>0</td>\n",
       "      <td>3023831</td>\n",
       "      <td>892993</td>\n",
       "    </tr>\n",
       "    <tr>\n",
       "      <th>3</th>\n",
       "      <td>4</td>\n",
       "      <td>2657</td>\n",
       "      <td>2657</td>\n",
       "      <td>3275794</td>\n",
       "      <td>487</td>\n",
       "      <td>61120081</td>\n",
       "      <td>9.780061e+12</td>\n",
       "      <td>Harper Lee</td>\n",
       "      <td>1960.0</td>\n",
       "      <td>To Kill a Mockingbird</td>\n",
       "      <td>...</td>\n",
       "      <td>72586</td>\n",
       "      <td>60427</td>\n",
       "      <td>117415</td>\n",
       "      <td>446835</td>\n",
       "      <td>1001952</td>\n",
       "      <td>1714267</td>\n",
       "      <td>2657</td>\n",
       "      <td>0</td>\n",
       "      <td>3163054</td>\n",
       "      <td>177842</td>\n",
       "    </tr>\n",
       "    <tr>\n",
       "      <th>4</th>\n",
       "      <td>5</td>\n",
       "      <td>4671</td>\n",
       "      <td>4671</td>\n",
       "      <td>245494</td>\n",
       "      <td>1356</td>\n",
       "      <td>743273567</td>\n",
       "      <td>9.780743e+12</td>\n",
       "      <td>F. Scott Fitzgerald</td>\n",
       "      <td>1925.0</td>\n",
       "      <td>The Great Gatsby</td>\n",
       "      <td>...</td>\n",
       "      <td>51992</td>\n",
       "      <td>86236</td>\n",
       "      <td>197621</td>\n",
       "      <td>606158</td>\n",
       "      <td>936012</td>\n",
       "      <td>947718</td>\n",
       "      <td>4671</td>\n",
       "      <td>0</td>\n",
       "      <td>2489888</td>\n",
       "      <td>283857</td>\n",
       "    </tr>\n",
       "  </tbody>\n",
       "</table>\n",
       "<p>5 rows × 25 columns</p>\n",
       "</div>"
      ],
      "text/plain": [
       "   id  book_id  best_book_id  work_id  books_count       isbn        isbn13  \\\n",
       "0   1  2767052       2767052  2792775          272  439023483  9.780439e+12   \n",
       "1   2        3             3  4640799          491  439554934  9.780440e+12   \n",
       "2   3    41865         41865  3212258          226  316015849  9.780316e+12   \n",
       "3   4     2657          2657  3275794          487   61120081  9.780061e+12   \n",
       "4   5     4671          4671   245494         1356  743273567  9.780743e+12   \n",
       "\n",
       "                       authors  original_publication_year  \\\n",
       "0              Suzanne Collins                     2008.0   \n",
       "1  J.K. Rowling, Mary GrandPré                     1997.0   \n",
       "2              Stephenie Meyer                     2005.0   \n",
       "3                   Harper Lee                     1960.0   \n",
       "4          F. Scott Fitzgerald                     1925.0   \n",
       "\n",
       "                             original_title  ... work_text_reviews_count  \\\n",
       "0                          The Hunger Games  ...                  155254   \n",
       "1  Harry Potter and the Philosopher's Stone  ...                   75867   \n",
       "2                                  Twilight  ...                   95009   \n",
       "3                     To Kill a Mockingbird  ...                   72586   \n",
       "4                          The Great Gatsby  ...                   51992   \n",
       "\n",
       "  ratings_1  ratings_2  ratings_3  ratings_4  ratings_5  goodreads_book_id  \\\n",
       "0     66715     127936     560092    1481305    2706317            2767052   \n",
       "1     75504     101676     455024    1156318    3011543                  3   \n",
       "2    456191     436802     793319     875073    1355439              41865   \n",
       "3     60427     117415     446835    1001952    1714267               2657   \n",
       "4     86236     197621     606158     936012     947718               4671   \n",
       "\n",
       "   is_div  ratings_positive  ratings_negative  \n",
       "0       0           4747714            194651  \n",
       "1       0           4622885            177180  \n",
       "2       0           3023831            892993  \n",
       "3       0           3163054            177842  \n",
       "4       0           2489888            283857  \n",
       "\n",
       "[5 rows x 25 columns]"
      ]
     },
     "execution_count": 417,
     "metadata": {},
     "output_type": "execute_result"
    }
   ],
   "source": [
    "books.head()"
   ]
  },
  {
   "cell_type": "code",
   "execution_count": 418,
   "metadata": {},
   "outputs": [],
   "source": [
    "users.to_csv('user_f.csv',index=None)"
   ]
  },
  {
   "cell_type": "code",
   "execution_count": 419,
   "metadata": {},
   "outputs": [
    {
     "data": {
      "text/html": [
       "<div>\n",
       "<style scoped>\n",
       "    .dataframe tbody tr th:only-of-type {\n",
       "        vertical-align: middle;\n",
       "    }\n",
       "\n",
       "    .dataframe tbody tr th {\n",
       "        vertical-align: top;\n",
       "    }\n",
       "\n",
       "    .dataframe thead th {\n",
       "        text-align: right;\n",
       "    }\n",
       "</style>\n",
       "<table border=\"1\" class=\"dataframe\">\n",
       "  <thead>\n",
       "    <tr style=\"text-align: right;\">\n",
       "      <th></th>\n",
       "      <th>book_id</th>\n",
       "      <th>user_id</th>\n",
       "      <th>rating</th>\n",
       "      <th>goodreads_book_id</th>\n",
       "      <th>is_div</th>\n",
       "      <th>uid</th>\n",
       "      <th>bid</th>\n",
       "      <th>b_average_rating</th>\n",
       "    </tr>\n",
       "  </thead>\n",
       "  <tbody>\n",
       "    <tr>\n",
       "      <th>0</th>\n",
       "      <td>1</td>\n",
       "      <td>3662</td>\n",
       "      <td>4</td>\n",
       "      <td>2767052</td>\n",
       "      <td>0</td>\n",
       "      <td>152.0</td>\n",
       "      <td>0.0</td>\n",
       "      <td>4.34</td>\n",
       "    </tr>\n",
       "    <tr>\n",
       "      <th>1</th>\n",
       "      <td>1</td>\n",
       "      <td>5461</td>\n",
       "      <td>3</td>\n",
       "      <td>2767052</td>\n",
       "      <td>0</td>\n",
       "      <td>206.0</td>\n",
       "      <td>0.0</td>\n",
       "      <td>4.34</td>\n",
       "    </tr>\n",
       "    <tr>\n",
       "      <th>2</th>\n",
       "      <td>1</td>\n",
       "      <td>11927</td>\n",
       "      <td>4</td>\n",
       "      <td>2767052</td>\n",
       "      <td>0</td>\n",
       "      <td>396.0</td>\n",
       "      <td>0.0</td>\n",
       "      <td>4.34</td>\n",
       "    </tr>\n",
       "    <tr>\n",
       "      <th>3</th>\n",
       "      <td>1</td>\n",
       "      <td>24845</td>\n",
       "      <td>5</td>\n",
       "      <td>2767052</td>\n",
       "      <td>0</td>\n",
       "      <td>785.0</td>\n",
       "      <td>0.0</td>\n",
       "      <td>4.34</td>\n",
       "    </tr>\n",
       "    <tr>\n",
       "      <th>4</th>\n",
       "      <td>1</td>\n",
       "      <td>15494</td>\n",
       "      <td>5</td>\n",
       "      <td>2767052</td>\n",
       "      <td>0</td>\n",
       "      <td>513.0</td>\n",
       "      <td>0.0</td>\n",
       "      <td>4.34</td>\n",
       "    </tr>\n",
       "  </tbody>\n",
       "</table>\n",
       "</div>"
      ],
      "text/plain": [
       "   book_id  user_id  rating  goodreads_book_id  is_div    uid  bid  \\\n",
       "0        1     3662       4            2767052       0  152.0  0.0   \n",
       "1        1     5461       3            2767052       0  206.0  0.0   \n",
       "2        1    11927       4            2767052       0  396.0  0.0   \n",
       "3        1    24845       5            2767052       0  785.0  0.0   \n",
       "4        1    15494       5            2767052       0  513.0  0.0   \n",
       "\n",
       "   b_average_rating  \n",
       "0              4.34  \n",
       "1              4.34  \n",
       "2              4.34  \n",
       "3              4.34  \n",
       "4              4.34  "
      ]
     },
     "execution_count": 419,
     "metadata": {},
     "output_type": "execute_result"
    }
   ],
   "source": [
    "users.head()"
   ]
  },
  {
   "cell_type": "code",
   "execution_count": 424,
   "metadata": {},
   "outputs": [],
   "source": [
    "pd.DataFrame(divm).reset_index().to_csv('div_array.csv',index=None)"
   ]
  },
  {
   "cell_type": "code",
   "execution_count": 426,
   "metadata": {},
   "outputs": [],
   "source": [
    "a =pd.read_csv('div_array.csv')"
   ]
  },
  {
   "cell_type": "code",
   "execution_count": 427,
   "metadata": {},
   "outputs": [
    {
     "data": {
      "text/plain": [
       "(9501, 2)"
      ]
     },
     "execution_count": 427,
     "metadata": {},
     "output_type": "execute_result"
    }
   ],
   "source": [
    "a.shape"
   ]
  },
  {
   "cell_type": "code",
   "execution_count": null,
   "metadata": {},
   "outputs": [],
   "source": []
  }
 ],
 "metadata": {
  "kernelspec": {
   "display_name": "Python 3",
   "language": "python",
   "name": "python3"
  },
  "language_info": {
   "codemirror_mode": {
    "name": "ipython",
    "version": 3
   },
   "file_extension": ".py",
   "mimetype": "text/x-python",
   "name": "python",
   "nbconvert_exporter": "python",
   "pygments_lexer": "ipython3",
   "version": "3.7.4"
  }
 },
 "nbformat": 4,
 "nbformat_minor": 2
}
