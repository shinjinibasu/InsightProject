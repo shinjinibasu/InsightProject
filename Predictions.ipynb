{
 "cells": [
  {
   "cell_type": "markdown",
   "metadata": {},
   "source": [
    "# Sample Predictions By Genre and User_ID\n",
    "\n",
    "This is a notebook that makes predictions and stores the results so the web app can fetch the pre-processed recommendations. This also contains lists of top-rated books in some common genres."
   ]
  },
  {
   "cell_type": "code",
   "execution_count": 1,
   "metadata": {},
   "outputs": [],
   "source": [
    "import numpy as np\n",
    "import pandas as pd\n",
    "from surprise_functions import get_n_rec_user\n",
    "from surprise import dump\n",
    "import pickle"
   ]
  },
  {
   "cell_type": "code",
   "execution_count": 2,
   "metadata": {},
   "outputs": [
    {
     "name": "stderr",
     "output_type": "stream",
     "text": [
      "C:\\Users\\shinj\\Anaconda3\\envs\\insight\\lib\\site-packages\\numpy\\lib\\arraysetops.py:569: FutureWarning: elementwise comparison failed; returning scalar instead, but in the future will perform elementwise comparison\n",
      "  mask |= (ar1 == a)\n"
     ]
    }
   ],
   "source": [
    "_,model = dump.load('model_dump_file')\n",
    "\n",
    "test = pd.read_csv('goodreads2/testset.csv',index_col=0)\n",
    "user_df = pd.read_csv('goodreads2/user_w_uid_bavg_titles.csv')\n",
    "div_m = pd.read_csv('goodreads2/div_array.csv')"
   ]
  },
  {
   "cell_type": "code",
   "execution_count": 3,
   "metadata": {},
   "outputs": [],
   "source": [
    "user_df.author.fillna('',inplace=True)\n",
    "user_df.title.fillna('',inplace=True)"
   ]
  },
  {
   "cell_type": "code",
   "execution_count": 4,
   "metadata": {
    "scrolled": true
   },
   "outputs": [],
   "source": [
    "rec = get_n_rec_user(user_df,222,model,div_m,test)"
   ]
  },
  {
   "cell_type": "code",
   "execution_count": 5,
   "metadata": {},
   "outputs": [
    {
     "data": {
      "text/plain": [
       "['Malgudi Days by R.K. Narayan, Jhumpa Lahiri',\n",
       " 'Crooked Kingdom by Leigh Bardugo',\n",
       " \"India After Gandhi: The History of the World's Largest Democracy by Ramachandra Guha\",\n",
       " 'Blue Lily, Lily Blue by Maggie Stiefvater',\n",
       " 'Citizen: An American Lyric by Claudia Rankine']"
      ]
     },
     "execution_count": 5,
     "metadata": {},
     "output_type": "execute_result"
    }
   ],
   "source": [
    "rec"
   ]
  },
  {
   "cell_type": "markdown",
   "metadata": {},
   "source": [
    "# Lists of books by genre\n",
    "\n",
    "First let's do the easy part and create lists of top-rated book by genre."
   ]
  },
  {
   "cell_type": "code",
   "execution_count": 6,
   "metadata": {},
   "outputs": [],
   "source": [
    "genres = ['science-fiction',\n",
    " 'fantasy',\n",
    " 'young-adult',\n",
    " 'historical-fiction',\n",
    " 'graphic-novels','adult','fiction','mystery']"
   ]
  },
  {
   "cell_type": "code",
   "execution_count": 7,
   "metadata": {},
   "outputs": [],
   "source": [
    "genre_dict = {}\n",
    "\n",
    "for gn in genres:\n",
    "    gen_book = user_df.loc[(user_df.genre==gn)&(user_df.is_div==1)&(user_df.title!='')].groupby('bid')[['title','author','b_average_rating']].first().reset_index().sort_values('b_average_rating',ascending=False).head(20).reset_index()\n",
    "    genre_dict[gn] = gen_book[['title','author','b_average_rating']].rename(columns = {'title':'Title','author':'Author','b_average_rating':'Average Rating'})"
   ]
  },
  {
   "cell_type": "code",
   "execution_count": 8,
   "metadata": {},
   "outputs": [],
   "source": [
    "genre_dict['adult'] = genre_dict['fiction']"
   ]
  },
  {
   "cell_type": "code",
   "execution_count": 9,
   "metadata": {},
   "outputs": [],
   "source": [
    "genre_dict['any'] = pd.concat([genre_dict['adult'],genre_dict['fantasy'],genre_dict['young-adult'],genre_dict['historical-fiction'],genre_dict['mystery'],genre_dict['graphic-novels']]).sort_values('Average Rating',ascending=False)"
   ]
  },
  {
   "cell_type": "code",
   "execution_count": 10,
   "metadata": {},
   "outputs": [],
   "source": [
    "genre_dict['science-fiction']['Title'] = genre_dict['science-fiction'].Title.str.replace('オール・ユー・ニード・イズ・キル','All You Need Is Kill')"
   ]
  },
  {
   "cell_type": "code",
   "execution_count": 11,
   "metadata": {},
   "outputs": [],
   "source": [
    "#pickle.dump(genre_dict, open( \"genrelist.p\", \"wb\" ) )"
   ]
  },
  {
   "cell_type": "markdown",
   "metadata": {},
   "source": [
    "# Prediction for a sample of usernames\n",
    "\n",
    "Let's make and store predictions for a set of sample users."
   ]
  },
  {
   "cell_type": "code",
   "execution_count": 12,
   "metadata": {},
   "outputs": [],
   "source": [
    "names = [\"Brianne\",'Shinjini','Allen','Emily','Adam','Donald','Kim',\"Ilia\",\"Bennett\",\"Yaarit\",\"Brandon\",\"Steven\",\"John\",\"Randolph\",\"Alex\",\"Gary\",\"Julia\",\"Ilia\",\"Chang\",\"Daniel\",\"Kai\",\"Jason\",\"Victoria\",\"Antoine\",\"Wenke\",\"Avi\",\"Jesse\",\"Anna\",\"Nina\",\"Paul\",\"Avery\"]"
   ]
  },
  {
   "cell_type": "code",
   "execution_count": 13,
   "metadata": {},
   "outputs": [],
   "source": [
    "names = pd.Series(names).drop_duplicates().tolist()"
   ]
  },
  {
   "cell_type": "code",
   "execution_count": 14,
   "metadata": {},
   "outputs": [
    {
     "data": {
      "text/plain": [
       "30"
      ]
     },
     "execution_count": 14,
     "metadata": {},
     "output_type": "execute_result"
    }
   ],
   "source": [
    "len(names)"
   ]
  },
  {
   "cell_type": "code",
   "execution_count": 16,
   "metadata": {},
   "outputs": [],
   "source": [
    "import random\n",
    "\n",
    "recs = []\n",
    "\n",
    "uid = list(range(1517))\n",
    "ul = random.sample(uid,30)\n",
    "\n",
    "for uid in ul:\n",
    "    recs.append(get_n_rec_user(user_df,uid,model,div_m,test))"
   ]
  },
  {
   "cell_type": "code",
   "execution_count": 19,
   "metadata": {},
   "outputs": [],
   "source": [
    "name_rec = dict(zip(names,recs))"
   ]
  },
  {
   "cell_type": "code",
   "execution_count": 20,
   "metadata": {},
   "outputs": [],
   "source": [
    "#pickle.dump(name_rec, open( \"name_rec.p\", \"wb\" ) )"
   ]
  }
 ],
 "metadata": {
  "kernelspec": {
   "display_name": "Python 3",
   "language": "python",
   "name": "python3"
  },
  "language_info": {
   "codemirror_mode": {
    "name": "ipython",
    "version": 3
   },
   "file_extension": ".py",
   "mimetype": "text/x-python",
   "name": "python",
   "nbconvert_exporter": "python",
   "pygments_lexer": "ipython3",
   "version": "3.7.4"
  }
 },
 "nbformat": 4,
 "nbformat_minor": 2
}
